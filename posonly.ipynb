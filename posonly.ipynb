{
 "cells": [
  {
   "cell_type": "markdown",
   "metadata": {},
   "source": [
    "importing cleaned-up data"
   ]
  },
  {
   "cell_type": "code",
   "execution_count": 1,
   "metadata": {},
   "outputs": [],
   "source": [
    "import numpy as np\n",
    "import matplotlib.pyplot as plt\n",
    "import pandas as pd\n",
    "data=pd.read_csv('newsplus.csv')\n",
    "data.text=data.text.str.replace('reuters','') #in case we missed it before\n"
   ]
  },
  {
   "cell_type": "markdown",
   "metadata": {},
   "source": [
    "Using scikit-learn to split into a training set and a test set. Using the default options of shuffling the data and dividing it into a 75% training/25% test split"
   ]
  },
  {
   "cell_type": "code",
   "execution_count": 2,
   "metadata": {},
   "outputs": [],
   "source": [
    "from sklearn.model_selection import train_test_split\n",
    "train,test= train_test_split(data)\n"
   ]
  },
  {
   "cell_type": "markdown",
   "metadata": {},
   "source": [
    "Discarding most of the training data after finding that use of all of it meant using a lot of time and memory."
   ]
  },
  {
   "cell_type": "code",
   "execution_count": 3,
   "metadata": {},
   "outputs": [],
   "source": [
    "train2=train.sample(frac=.1)\n",
    "X_train=train2.text\n",
    "y_train=train2.fake"
   ]
  },
  {
   "cell_type": "markdown",
   "metadata": {},
   "source": [
    "One more pass to eliminate non-string values from the text."
   ]
  },
  {
   "cell_type": "code",
   "execution_count": 4,
   "metadata": {},
   "outputs": [
    {
     "name": "stderr",
     "output_type": "stream",
     "text": [
      "<ipython-input-4-832e5abd3ea6>:1: SettingWithCopyWarning: \n",
      "A value is trying to be set on a copy of a slice from a DataFrame\n",
      "\n",
      "See the caveats in the documentation: https://pandas.pydata.org/pandas-docs/stable/user_guide/indexing.html#returning-a-view-versus-a-copy\n",
      "  X_train['type'] = X_train.apply(lambda row: type(row))\n"
     ]
    }
   ],
   "source": [
    "X_train['type'] = X_train.apply(lambda row: type(row))\n",
    "y_train=y_train[X_train.type==str]\n",
    "X_train['type'] = X_train.apply(lambda row: type(row)) #not sure but the following line wouldn't execute until I ran this again\n",
    "X_train=X_train[X_train.type==str] \n",
    "#print(X.shape)\n",
    "#print(y.shape)\n"
   ]
  },
  {
   "cell_type": "code",
   "execution_count": 5,
   "metadata": {},
   "outputs": [],
   "source": [
    "poslist=[]\n",
    "import nltk\n",
    "i=0\n",
    "for w in X_train:\n",
    "    token=nltk.word_tokenize(w)\n",
    "    for thing in token:\n",
    "        if thing==thing.upper():\n",
    "            try:\n",
    "                poslist[i]=(poslist[i]+' '+thing)\n",
    "            except:\n",
    "                poslist.append(thing)\n",
    "    i=i+1"
   ]
  },
  {
   "cell_type": "code",
   "execution_count": 6,
   "metadata": {},
   "outputs": [],
   "source": [
    "df=pd.DataFrame(poslist,columns=['pos'])"
   ]
  },
  {
   "cell_type": "code",
   "execution_count": 7,
   "metadata": {},
   "outputs": [
    {
     "data": {
      "text/html": [
       "<div>\n",
       "<style scoped>\n",
       "    .dataframe tbody tr th:only-of-type {\n",
       "        vertical-align: middle;\n",
       "    }\n",
       "\n",
       "    .dataframe tbody tr th {\n",
       "        vertical-align: top;\n",
       "    }\n",
       "\n",
       "    .dataframe thead th {\n",
       "        text-align: right;\n",
       "    }\n",
       "</style>\n",
       "<table border=\"1\" class=\"dataframe\">\n",
       "  <thead>\n",
       "    <tr style=\"text-align: right;\">\n",
       "      <th></th>\n",
       "      <th>pos</th>\n",
       "    </tr>\n",
       "  </thead>\n",
       "  <tbody>\n",
       "    <tr>\n",
       "      <th>0</th>\n",
       "      <td>JJ JJ NN NN VBP NN VBG JJ NN NNS VBP RB JJ NN ...</td>\n",
       "    </tr>\n",
       "    <tr>\n",
       "      <th>1</th>\n",
       "      <td>NN VB JJ JJ JJ NN VBD NN MD RB VB JJ JJ RB JJ ...</td>\n",
       "    </tr>\n",
       "    <tr>\n",
       "      <th>2</th>\n",
       "      <td>NN JJ JJ JJ NN NN NN NN VBD NN NN VBG JJ NN NN...</td>\n",
       "    </tr>\n",
       "    <tr>\n",
       "      <th>3</th>\n",
       "      <td>JJ JJ JJ JJ NN NN NN VBP JJ NN VBP JJ NN NN NN...</td>\n",
       "    </tr>\n",
       "    <tr>\n",
       "      <th>4</th>\n",
       "      <td>NN JJ NNS VBN JJR JJ NN NNS VBP VBD NNS VBP VB...</td>\n",
       "    </tr>\n",
       "  </tbody>\n",
       "</table>\n",
       "</div>"
      ],
      "text/plain": [
       "                                                 pos\n",
       "0  JJ JJ NN NN VBP NN VBG JJ NN NNS VBP RB JJ NN ...\n",
       "1  NN VB JJ JJ JJ NN VBD NN MD RB VB JJ JJ RB JJ ...\n",
       "2  NN JJ JJ JJ NN NN NN NN VBD NN NN VBG JJ NN NN...\n",
       "3  JJ JJ JJ JJ NN NN NN VBP JJ NN VBP JJ NN NN NN...\n",
       "4  NN JJ NNS VBN JJR JJ NN NNS VBP VBD NNS VBP VB..."
      ]
     },
     "execution_count": 7,
     "metadata": {},
     "output_type": "execute_result"
    }
   ],
   "source": [
    "df[:5]"
   ]
  },
  {
   "cell_type": "code",
   "execution_count": 8,
   "metadata": {},
   "outputs": [
    {
     "data": {
      "text/plain": [
       "CountVectorizer(max_features=100, ngram_range=(1, 3), stop_words='english')"
      ]
     },
     "execution_count": 8,
     "metadata": {},
     "output_type": "execute_result"
    }
   ],
   "source": [
    "from collections import Counter\n",
    "from sklearn.feature_extraction.text import CountVectorizer\n",
    "vect = CountVectorizer(stop_words='english', ngram_range=(1, 3), max_features=100) \n",
    "vect.fit(df.pos)"
   ]
  },
  {
   "cell_type": "code",
   "execution_count": 9,
   "metadata": {},
   "outputs": [
    {
     "data": {
      "text/plain": [
       "{'jj': 1,\n",
       " 'nn': 18,\n",
       " 'vbp': 92,\n",
       " 'vbg': 81,\n",
       " 'nns': 50,\n",
       " 'rb': 64,\n",
       " 'vbd': 73,\n",
       " 'md': 16,\n",
       " 'vb': 70,\n",
       " 'vbn': 87,\n",
       " 'vbz': 98,\n",
       " 'nnp': 49,\n",
       " 'cd': 0,\n",
       " 'jj jj': 2,\n",
       " 'jj nn': 5,\n",
       " 'nn nn': 25,\n",
       " 'nn vbp': 47,\n",
       " 'vbp nn': 95,\n",
       " 'nn vbg': 43,\n",
       " 'vbg jj': 82,\n",
       " 'nn nns': 33,\n",
       " 'nns vbp': 61,\n",
       " 'rb jj': 65,\n",
       " 'nn jj': 19,\n",
       " 'jj nns': 12,\n",
       " 'nns vbd': 58,\n",
       " 'vbd nns': 80,\n",
       " 'nns jj': 51,\n",
       " 'vbg nns': 86,\n",
       " 'vbp jj': 93,\n",
       " 'vbd jj': 74,\n",
       " 'vbp nns': 97,\n",
       " 'nns nns': 56,\n",
       " 'rb nn': 67,\n",
       " 'nn md': 23,\n",
       " 'md vb': 17,\n",
       " 'nn rb': 38,\n",
       " 'rb vbn': 69,\n",
       " 'vbn nn': 90,\n",
       " 'nns nn': 54,\n",
       " 'nn vbn': 46,\n",
       " 'vbn jj': 88,\n",
       " 'nn vbd': 40,\n",
       " 'nn vbz': 48,\n",
       " 'vbz jj': 99,\n",
       " 'nns vbg': 60,\n",
       " 'jj jj nn': 3,\n",
       " 'jj nn nn': 7,\n",
       " 'nn vbg jj': 44,\n",
       " 'vbg jj nn': 83,\n",
       " 'jj nn nns': 8,\n",
       " 'nn nns vbp': 37,\n",
       " 'rb jj nn': 66,\n",
       " 'nn nn jj': 26,\n",
       " 'nn jj nn': 21,\n",
       " 'jj nn jj': 6,\n",
       " 'nn jj nns': 22,\n",
       " 'nns jj nns': 53,\n",
       " 'jj nns vbp': 15,\n",
       " 'nns vbp jj': 62,\n",
       " 'vbp jj nn': 94,\n",
       " 'jj nn vbg': 11,\n",
       " 'nn jj jj': 20,\n",
       " 'jj jj nns': 4,\n",
       " 'nns vbd jj': 59,\n",
       " 'vbd jj nn': 76,\n",
       " 'nn md vb': 24,\n",
       " 'nns vbp nn': 63,\n",
       " 'vbp nn nn': 96,\n",
       " 'nn nn rb': 29,\n",
       " 'nn rb jj': 39,\n",
       " 'jj nn rb': 9,\n",
       " 'nn nns nn': 35,\n",
       " 'nn nn vbd': 30,\n",
       " 'nn vbd jj': 41,\n",
       " 'vbd jj jj': 75,\n",
       " 'nn nns jj': 34,\n",
       " 'nns jj nn': 52,\n",
       " 'nn nn nn': 27,\n",
       " 'nn nn nns': 28,\n",
       " 'nn nn vbz': 32,\n",
       " 'vbn nn nn': 91,\n",
       " 'jj nns jj': 13,\n",
       " 'jj nns nn': 14,\n",
       " 'vb jj': 71,\n",
       " 'vbd nn': 78,\n",
       " 'vbg nn': 84,\n",
       " 'vb nn': 72,\n",
       " 'jj nn vbd': 10,\n",
       " 'nn vbd nn': 42,\n",
       " 'vbd nn nn': 79,\n",
       " 'nn nns vbd': 36,\n",
       " 'nns nn nn': 55,\n",
       " 'nn vbg nn': 45,\n",
       " 'vbd jj nns': 77,\n",
       " 'nns rb': 57,\n",
       " 'nn nn vbg': 31,\n",
       " 'vbn jj nn': 89,\n",
       " 'vbg nn nn': 85,\n",
       " 'rb vbd': 68}"
      ]
     },
     "execution_count": 9,
     "metadata": {},
     "output_type": "execute_result"
    }
   ],
   "source": [
    "vect.vocabulary_ "
   ]
  },
  {
   "cell_type": "code",
   "execution_count": 10,
   "metadata": {},
   "outputs": [],
   "source": [
    "feature_matrix_train = vect.transform(df.pos)"
   ]
  },
  {
   "cell_type": "code",
   "execution_count": 11,
   "metadata": {},
   "outputs": [
    {
     "data": {
      "text/plain": [
       "(4869, 100)"
      ]
     },
     "execution_count": 11,
     "metadata": {},
     "output_type": "execute_result"
    }
   ],
   "source": [
    "feature_matrix_train.shape"
   ]
  },
  {
   "cell_type": "code",
   "execution_count": 12,
   "metadata": {},
   "outputs": [
    {
     "data": {
      "text/plain": [
       "(4869,)"
      ]
     },
     "execution_count": 12,
     "metadata": {},
     "output_type": "execute_result"
    }
   ],
   "source": [
    "y_train.shape #checking for compatibility"
   ]
  },
  {
   "cell_type": "code",
   "execution_count": 13,
   "metadata": {},
   "outputs": [
    {
     "name": "stdout",
     "output_type": "stream",
     "text": [
      "[t-SNE] Computing 91 nearest neighbors...\n",
      "[t-SNE] Indexed 1000 samples in 0.040s...\n",
      "[t-SNE] Computed neighbors for 1000 samples in 0.180s...\n",
      "[t-SNE] Computed conditional probabilities for sample 1000 / 1000\n",
      "[t-SNE] Mean sigma: 8.362130\n",
      "[t-SNE] KL divergence after 250 iterations with early exaggeration: 59.400921\n",
      "[t-SNE] KL divergence after 1000 iterations: 0.818223\n"
     ]
    },
    {
     "data": {
      "text/plain": [
       "<matplotlib.legend.Legend at 0x16f6f670>"
      ]
     },
     "execution_count": 13,
     "metadata": {},
     "output_type": "execute_result"
    },
    {
     "data": {
      "image/png": "[encoded data removed]",
      "text/plain": [
       "<Figure size 864x360 with 1 Axes>"
      ]
     },
     "metadata": {
      "needs_background": "light"
     },
     "output_type": "display_data"
    }
   ],
   "source": [
    "from sklearn.manifold import TSNE\n",
    "matrix=feature_matrix_train.toarray()[:1000]\n",
    "vector=y_train[:1000]\n",
    "tsne_reduction=TSNE(n_components=2,perplexity=30,verbose=1) \n",
    "feature_matrix_reduced=tsne_reduction.fit_transform(matrix)\n",
    "plt.figure(figsize=(12,5))\n",
    "plt.plot(feature_matrix_reduced[vector==1,0],feature_matrix_reduced[vector==1,1],'bo',label='fake')\n",
    "plt.plot(feature_matrix_reduced[vector==0,0],feature_matrix_reduced[vector==0,1],'ro',label='real')\n",
    "plt.legend()"
   ]
  },
  {
   "cell_type": "markdown",
   "metadata": {},
   "source": [
    "Fitting and testing a logistic regression model after transforming the test set to be conformable with the training set."
   ]
  },
  {
   "cell_type": "code",
   "execution_count": 14,
   "metadata": {},
   "outputs": [],
   "source": [
    "from sklearn.linear_model import LogisticRegression"
   ]
  },
  {
   "cell_type": "code",
   "execution_count": 15,
   "metadata": {},
   "outputs": [
    {
     "data": {
      "text/plain": [
       "LogisticRegression(max_iter=1000)"
      ]
     },
     "execution_count": 15,
     "metadata": {},
     "output_type": "execute_result"
    }
   ],
   "source": [
    "log_clf = LogisticRegression(max_iter=1000)\n",
    "log_clf.fit(feature_matrix_train,y_train)\n"
   ]
  },
  {
   "cell_type": "code",
   "execution_count": 16,
   "metadata": {},
   "outputs": [
    {
     "data": {
      "text/plain": [
       "<matplotlib.collections.PathCollection at 0x16ff45e0>"
      ]
     },
     "execution_count": 16,
     "metadata": {},
     "output_type": "execute_result"
    },
    {
     "data": {
      "image/png": "[encoded data removed]",
      "text/plain": [
       "<Figure size 432x288 with 1 Axes>"
      ]
     },
     "metadata": {
      "needs_background": "light"
     },
     "output_type": "display_data"
    }
   ],
   "source": [
    "x=np.linspace(1,100,num=100)\n",
    "plt.scatter(x,np.sort(np.absolute(log_clf.coef_)))\n",
    "#this plot gives an idea of how many words to include if combining word data and parts of speech tagging. We can see that the\n",
    "#top 20 or so n-grams are quite a bit more informative than the next 80."
   ]
  },
  {
   "cell_type": "code",
   "execution_count": 18,
   "metadata": {},
   "outputs": [
    {
     "name": "stderr",
     "output_type": "stream",
     "text": [
      "<ipython-input-18-536f325d7520>:3: SettingWithCopyWarning: \n",
      "A value is trying to be set on a copy of a slice from a DataFrame\n",
      "\n",
      "See the caveats in the documentation: https://pandas.pydata.org/pandas-docs/stable/user_guide/indexing.html#returning-a-view-versus-a-copy\n",
      "  X_test['type'] = X_test.apply(lambda row: type(row))\n",
      "<ipython-input-18-536f325d7520>:5: SettingWithCopyWarning: \n",
      "A value is trying to be set on a copy of a slice from a DataFrame\n",
      "\n",
      "See the caveats in the documentation: https://pandas.pydata.org/pandas-docs/stable/user_guide/indexing.html#returning-a-view-versus-a-copy\n",
      "  X_test['type'] = X_test.apply(lambda row: type(row)) #not sure but the following line wouldn't execute until I ran this again\n"
     ]
    },
    {
     "data": {
      "text/plain": [
       "array([[5350, 2613],\n",
       "       [1945, 6339]], dtype=int64)"
      ]
     },
     "execution_count": 18,
     "metadata": {},
     "output_type": "execute_result"
    }
   ],
   "source": [
    "X_test=test.text\n",
    "y_test=test.fake\n",
    "X_test['type'] = X_test.apply(lambda row: type(row))\n",
    "y_test=y_test[X_test.type==str]\n",
    "X_test['type'] = X_test.apply(lambda row: type(row)) #not sure but the following line wouldn't execute until I ran this again\n",
    "X_test=X_test[X_test.type==str] \n",
    "poslist=[]\n",
    "import nltk\n",
    "i=0\n",
    "for w in X_test:\n",
    "    token=nltk.word_tokenize(w)\n",
    "    for thing in token:\n",
    "        if thing==thing.upper():\n",
    "            try:\n",
    "                poslist[i]=(poslist[i]+' '+thing)\n",
    "            except:\n",
    "                poslist.append(thing)\n",
    "    i=i+1\n",
    "df=pd.DataFrame(poslist,columns=['pos'])\n",
    "feature_matrix_test = vect.transform(df.pos)\n",
    "y_test_pred = log_clf.predict(feature_matrix_test)\n",
    "from sklearn.metrics import confusion_matrix,accuracy_score\n",
    "confusion_matrix(y_test,y_test_pred)"
   ]
  },
  {
   "cell_type": "code",
   "execution_count": 19,
   "metadata": {},
   "outputs": [
    {
     "data": {
      "text/plain": [
       "0.7194558995506862"
      ]
     },
     "execution_count": 19,
     "metadata": {},
     "output_type": "execute_result"
    }
   ],
   "source": [
    "accuracy_score(y_test,y_test_pred)"
   ]
  },
  {
   "cell_type": "code",
   "execution_count": 20,
   "metadata": {},
   "outputs": [
    {
     "data": {
      "text/plain": [
       "{'alpha': 1}"
      ]
     },
     "execution_count": 20,
     "metadata": {},
     "output_type": "execute_result"
    }
   ],
   "source": [
    "from sklearn.linear_model import RidgeClassifier\n",
    "from sklearn.model_selection import GridSearchCV\n",
    "parameters={'alpha':[0,.01,.1,1]}\n",
    "RCbasic=RidgeClassifier(max_iter=1000, solver='sparse_cg')\n",
    "RC=GridSearchCV(RCbasic,parameters)\n",
    "RC.fit(feature_matrix_train,y_train)\n",
    "RC.best_params_"
   ]
  },
  {
   "cell_type": "code",
   "execution_count": 21,
   "metadata": {},
   "outputs": [
    {
     "data": {
      "text/plain": [
       "array([[5000, 2963],\n",
       "       [1820, 6464]], dtype=int64)"
      ]
     },
     "execution_count": 21,
     "metadata": {},
     "output_type": "execute_result"
    }
   ],
   "source": [
    "y_test_pred = RC.best_estimator_.predict(feature_matrix_test)\n",
    "confusion_matrix(y_test,y_test_pred)"
   ]
  },
  {
   "cell_type": "code",
   "execution_count": 22,
   "metadata": {},
   "outputs": [
    {
     "data": {
      "text/plain": [
       "0.7056071890195112"
      ]
     },
     "execution_count": 22,
     "metadata": {},
     "output_type": "execute_result"
    }
   ],
   "source": [
    "accuracy_score(y_test,y_test_pred)"
   ]
  },
  {
   "cell_type": "code",
   "execution_count": 23,
   "metadata": {},
   "outputs": [
    {
     "data": {
      "text/plain": [
       "{'max_depth': 6, 'max_features': None}"
      ]
     },
     "execution_count": 23,
     "metadata": {},
     "output_type": "execute_result"
    }
   ],
   "source": [
    "from sklearn.tree import DecisionTreeClassifier\n",
    "DT=DecisionTreeClassifier(criterion='entropy')\n",
    "parameters={'max_depth':[2,3,4,6,None],'max_features':['auto','log2',None]}\n",
    "DT2=GridSearchCV(DT,parameters)\n",
    "DT2.fit(feature_matrix_train,y_train)\n",
    "DT2.best_params_"
   ]
  },
  {
   "cell_type": "code",
   "execution_count": 24,
   "metadata": {},
   "outputs": [
    {
     "data": {
      "text/plain": [
       "array([[5269, 2694],\n",
       "       [2162, 6122]], dtype=int64)"
      ]
     },
     "execution_count": 24,
     "metadata": {},
     "output_type": "execute_result"
    }
   ],
   "source": [
    "y_test_pred=DT2.best_estimator_.predict(feature_matrix_test)\n",
    "confusion_matrix(y_test,y_test_pred)"
   ]
  },
  {
   "cell_type": "code",
   "execution_count": 25,
   "metadata": {},
   "outputs": [
    {
     "data": {
      "text/plain": [
       "0.7011140518249523"
      ]
     },
     "execution_count": 25,
     "metadata": {},
     "output_type": "execute_result"
    }
   ],
   "source": [
    "accuracy_score(y_test,y_test_pred)"
   ]
  },
  {
   "cell_type": "code",
   "execution_count": 26,
   "metadata": {},
   "outputs": [],
   "source": [
    "from sklearn.naive_bayes import MultinomialNB"
   ]
  },
  {
   "cell_type": "code",
   "execution_count": 27,
   "metadata": {},
   "outputs": [
    {
     "data": {
      "text/plain": [
       "{'alpha': 0.001}"
      ]
     },
     "execution_count": 27,
     "metadata": {},
     "output_type": "execute_result"
    }
   ],
   "source": [
    "NBbasic=MultinomialNB() \n",
    "parameters={'alpha':[.001,.01,.1,1]}\n",
    "NB=GridSearchCV(NBbasic,parameters)\n",
    "NB.fit(feature_matrix_train,y_train)\n",
    "NB.best_params_"
   ]
  },
  {
   "cell_type": "code",
   "execution_count": 28,
   "metadata": {},
   "outputs": [
    {
     "data": {
      "text/plain": [
       "array([[6004, 1959],\n",
       "       [2858, 5426]], dtype=int64)"
      ]
     },
     "execution_count": 28,
     "metadata": {},
     "output_type": "execute_result"
    }
   ],
   "source": [
    "y_test_pred=NB.best_estimator_.predict(feature_matrix_test) \n",
    "confusion_matrix(y_test,y_test_pred)"
   ]
  },
  {
   "cell_type": "code",
   "execution_count": 29,
   "metadata": {},
   "outputs": [
    {
     "data": {
      "text/plain": [
       "0.7035144949836893"
      ]
     },
     "execution_count": 29,
     "metadata": {},
     "output_type": "execute_result"
    }
   ],
   "source": [
    "accuracy_score(y_test,y_test_pred)"
   ]
  },
  {
   "cell_type": "markdown",
   "metadata": {},
   "source": [
    "Had to reduce the dimensionality from the 100-feature matrix we had to avoid getting memory overflows when doing a k-nn\n",
    "classification."
   ]
  },
  {
   "cell_type": "code",
   "execution_count": 30,
   "metadata": {},
   "outputs": [
    {
     "data": {
      "text/plain": [
       "TruncatedSVD(n_components=10)"
      ]
     },
     "execution_count": 30,
     "metadata": {},
     "output_type": "execute_result"
    }
   ],
   "source": [
    "from sklearn.neighbors import KNeighborsClassifier\n",
    "parameters={'n_neighbors':[4,10,15],'weights':['distance','uniform']}\n",
    "knnbegin=KNeighborsClassifier() #selected for n_neighbors and weights via grid search\n",
    "from sklearn.decomposition import TruncatedSVD\n",
    "flat=TruncatedSVD(n_components=10) #still getting memory errors with 100 features\n",
    "flat.fit(feature_matrix_train)\n"
   ]
  },
  {
   "cell_type": "code",
   "execution_count": 31,
   "metadata": {},
   "outputs": [],
   "source": [
    "ftrain=flat.transform(feature_matrix_train)"
   ]
  },
  {
   "cell_type": "markdown",
   "metadata": {},
   "source": [
    "knn.fit(ftrain,y_train) #nothing to fit I guess but this seems to work as intended"
   ]
  },
  {
   "cell_type": "code",
   "execution_count": 32,
   "metadata": {},
   "outputs": [
    {
     "data": {
      "text/plain": [
       "{'n_neighbors': 15, 'weights': 'distance'}"
      ]
     },
     "execution_count": 32,
     "metadata": {},
     "output_type": "execute_result"
    }
   ],
   "source": [
    "knn=GridSearchCV(knnbegin,parameters)\n",
    "knn.fit(ftrain,y_train)\n",
    "knn.best_params_"
   ]
  },
  {
   "cell_type": "code",
   "execution_count": 33,
   "metadata": {},
   "outputs": [],
   "source": [
    "ftest=flat.transform(feature_matrix_test)"
   ]
  },
  {
   "cell_type": "code",
   "execution_count": 34,
   "metadata": {},
   "outputs": [
    {
     "data": {
      "text/plain": [
       "array([[5902, 2061],\n",
       "       [2363, 5921]], dtype=int64)"
      ]
     },
     "execution_count": 34,
     "metadata": {},
     "output_type": "execute_result"
    }
   ],
   "source": [
    "y_test_pred=knn.best_estimator_.predict(ftest)\n",
    "confusion_matrix(y_test,y_test_pred)\n"
   ]
  },
  {
   "cell_type": "code",
   "execution_count": 35,
   "metadata": {},
   "outputs": [
    {
     "data": {
      "text/plain": [
       "0.7277035760448083"
      ]
     },
     "execution_count": 35,
     "metadata": {},
     "output_type": "execute_result"
    }
   ],
   "source": [
    "accuracy_score(y_test,y_test_pred)"
   ]
  },
  {
   "cell_type": "markdown",
   "metadata": {},
   "source": [
    "Using cosine similarity instead of Euclidean distance for k-nn classifier."
   ]
  },
  {
   "cell_type": "code",
   "execution_count": 36,
   "metadata": {},
   "outputs": [],
   "source": [
    "knn2=KNeighborsClassifier(metric='cosine')\n",
    "parameters={'n_neighbors':[4,10,15]}"
   ]
  },
  {
   "cell_type": "code",
   "execution_count": 37,
   "metadata": {},
   "outputs": [
    {
     "data": {
      "text/plain": [
       "GridSearchCV(estimator=KNeighborsClassifier(metric='cosine'),\n",
       "             param_grid={'n_neighbors': [4, 10, 15]})"
      ]
     },
     "execution_count": 37,
     "metadata": {},
     "output_type": "execute_result"
    }
   ],
   "source": [
    "knn3=GridSearchCV(knn2,parameters)\n",
    "knn3.fit(ftrain,y_train)"
   ]
  },
  {
   "cell_type": "code",
   "execution_count": 38,
   "metadata": {},
   "outputs": [
    {
     "data": {
      "text/plain": [
       "{'n_neighbors': 15}"
      ]
     },
     "execution_count": 38,
     "metadata": {},
     "output_type": "execute_result"
    }
   ],
   "source": [
    "knn3.best_params_"
   ]
  },
  {
   "cell_type": "markdown",
   "metadata": {},
   "source": [
    "Also had to use a smaller test set to look for cosine similarity to avoid memory errors. Setting up the test set and then testing on it."
   ]
  },
  {
   "cell_type": "code",
   "execution_count": 39,
   "metadata": {},
   "outputs": [
    {
     "name": "stderr",
     "output_type": "stream",
     "text": [
      "<ipython-input-39-322e9c900a5b>:4: SettingWithCopyWarning: \n",
      "A value is trying to be set on a copy of a slice from a DataFrame\n",
      "\n",
      "See the caveats in the documentation: https://pandas.pydata.org/pandas-docs/stable/user_guide/indexing.html#returning-a-view-versus-a-copy\n",
      "  X_test2['type'] = X_test2.apply(lambda row: type(row))\n"
     ]
    }
   ],
   "source": [
    "test2=test.sample(frac=.25)\n",
    "X_test2=test2.text\n",
    "y_test2=test2.fake\n",
    "X_test2['type'] = X_test2.apply(lambda row: type(row))\n",
    "y_test2=y_test2[X_test2.type==str]\n",
    "X_test2['type'] = X_test2.apply(lambda row: type(row)) #not sure but the following line wouldn't execute until I ran this again\n",
    "X_test2=X_test2[X_test2.type==str] "
   ]
  },
  {
   "cell_type": "code",
   "execution_count": 40,
   "metadata": {},
   "outputs": [],
   "source": [
    "poslist=[]\n",
    "import nltk\n",
    "i=0\n",
    "for w in X_test2:\n",
    "    token=nltk.word_tokenize(w)\n",
    "    for thing in token:\n",
    "        if thing==thing.upper():\n",
    "            try:\n",
    "                poslist[i]=(poslist[i]+' '+thing)\n",
    "            except:\n",
    "                poslist.append(thing)\n",
    "    i=i+1\n",
    "df2=pd.DataFrame(poslist,columns=['pos'])\n",
    "feature_matrix_test2 = vect.transform(df2.pos)\n",
    "ftest2=flat.transform(feature_matrix_test2)"
   ]
  },
  {
   "cell_type": "code",
   "execution_count": 41,
   "metadata": {},
   "outputs": [
    {
     "data": {
      "text/plain": [
       "array([[1504,  494],\n",
       "       [ 669, 1391]], dtype=int64)"
      ]
     },
     "execution_count": 41,
     "metadata": {},
     "output_type": "execute_result"
    }
   ],
   "source": [
    "y_test_pred=knn3.best_estimator_.predict(ftest2)\n",
    "confusion_matrix(y_test2,y_test_pred)"
   ]
  },
  {
   "cell_type": "code",
   "execution_count": 42,
   "metadata": {},
   "outputs": [
    {
     "data": {
      "text/plain": [
       "0.7134056185312962"
      ]
     },
     "execution_count": 42,
     "metadata": {},
     "output_type": "execute_result"
    }
   ],
   "source": [
    "accuracy_score(y_test2,y_test_pred)"
   ]
  },
  {
   "cell_type": "markdown",
   "metadata": {},
   "source": [
    "Testing the k-nn Euclidean distance version on the same size test set."
   ]
  },
  {
   "cell_type": "code",
   "execution_count": 43,
   "metadata": {},
   "outputs": [
    {
     "data": {
      "text/plain": [
       "array([[1498,  500],\n",
       "       [ 582, 1478]], dtype=int64)"
      ]
     },
     "execution_count": 43,
     "metadata": {},
     "output_type": "execute_result"
    }
   ],
   "source": [
    "y_test_pred=knn.best_estimator_.predict(ftest2)\n",
    "confusion_matrix(y_test2,y_test_pred)"
   ]
  },
  {
   "cell_type": "code",
   "execution_count": 44,
   "metadata": {},
   "outputs": [
    {
     "data": {
      "text/plain": [
       "0.7333661902414983"
      ]
     },
     "execution_count": 44,
     "metadata": {},
     "output_type": "execute_result"
    }
   ],
   "source": [
    "accuracy_score(y_test2,y_test_pred)"
   ]
  },
  {
   "cell_type": "markdown",
   "metadata": {},
   "source": [
    "Gradient boosting classifier is a newer classification method with a good track record. In the basic version seen here it builds a number of decision trees (100 is the default; more trees usually result in better predictions since the model is considered fairly robust to overfitting). Ultimately it returns an average of all the trees that are built weighted by the \n",
    "accuracy of each one. However, unlike in a random forest, each tree that is built after the first one is fitted to the residual \n",
    "of the weighted predictions so far, so that each new tree that is built corrects for the errors from the previous model."
   ]
  },
  {
   "cell_type": "code",
   "execution_count": 45,
   "metadata": {},
   "outputs": [],
   "source": [
    "from sklearn.ensemble import GradientBoostingClassifier\n",
    "GTB_clf = GradientBoostingClassifier()"
   ]
  },
  {
   "cell_type": "markdown",
   "metadata": {},
   "source": [
    "Parameters that can profitably tuned include the depth of the trees and the maximum number of features to be \n",
    "considered when looking for the best split in each tree."
   ]
  },
  {
   "cell_type": "code",
   "execution_count": 46,
   "metadata": {},
   "outputs": [
    {
     "data": {
      "text/plain": [
       "GridSearchCV(estimator=GradientBoostingClassifier(),\n",
       "             param_grid={'max_depth': [2, 3, 4, 6, None],\n",
       "                         'max_features': ('auto', 'log2', None)})"
      ]
     },
     "execution_count": 46,
     "metadata": {},
     "output_type": "execute_result"
    }
   ],
   "source": [
    "parameters={'max_features':('auto','log2',None), 'max_depth':[2,3,4,6,None]}\n",
    "GTB=GridSearchCV(GTB_clf,parameters)\n",
    "GTB.fit(feature_matrix_train,y_train)"
   ]
  },
  {
   "cell_type": "code",
   "execution_count": 47,
   "metadata": {},
   "outputs": [
    {
     "data": {
      "text/plain": [
       "{'max_depth': 6, 'max_features': 'auto'}"
      ]
     },
     "execution_count": 47,
     "metadata": {},
     "output_type": "execute_result"
    }
   ],
   "source": [
    "GTB.best_params_"
   ]
  },
  {
   "cell_type": "code",
   "execution_count": 48,
   "metadata": {},
   "outputs": [
    {
     "data": {
      "text/plain": [
       "array([[6084, 1879],\n",
       "       [2024, 6260]], dtype=int64)"
      ]
     },
     "execution_count": 48,
     "metadata": {},
     "output_type": "execute_result"
    }
   ],
   "source": [
    "y_test_pred=GTB.best_estimator_.predict(feature_matrix_test)\n",
    "confusion_matrix(y_test,y_test_pred)"
   ]
  },
  {
   "cell_type": "code",
   "execution_count": 49,
   "metadata": {},
   "outputs": [
    {
     "data": {
      "text/plain": [
       "0.7597710346525512"
      ]
     },
     "execution_count": 49,
     "metadata": {},
     "output_type": "execute_result"
    }
   ],
   "source": [
    "accuracy_score(y_test,y_test_pred)"
   ]
  },
  {
   "cell_type": "markdown",
   "metadata": {},
   "source": [
    "A function to transform raw text in identical fashion to the transformations used on the text in our training data, and to test\n",
    "each of the classification algorithms on a given text."
   ]
  },
  {
   "cell_type": "code",
   "execution_count": 50,
   "metadata": {},
   "outputs": [
    {
     "name": "stderr",
     "output_type": "stream",
     "text": [
      "[nltk_data] Downloading package stopwords to\n",
      "[nltk_data]     C:\\Users\\User\\AppData\\Roaming\\nltk_data...\n",
      "[nltk_data]   Package stopwords is already up-to-date!\n",
      "[nltk_data] Downloading package averaged_perceptron_tagger to\n",
      "[nltk_data]     C:\\Users\\User\\AppData\\Roaming\\nltk_data...\n",
      "[nltk_data]   Package averaged_perceptron_tagger is already up-to-\n",
      "[nltk_data]       date!\n"
     ]
    }
   ],
   "source": [
    "import nltk\n",
    "nltk.download('stopwords')\n",
    "nltk.download('averaged_perceptron_tagger')\n",
    "from nltk.corpus import stopwords\n",
    "stop=stopwords.words('english')\n",
    "import re\n",
    "def tokenizeandstopwords(text):\n",
    "    tokens = nltk.word_tokenize(text)\n",
    "    # taken only words (not punctuation)\n",
    "    token_words = [w for w in tokens if w.isalpha()]\n",
    "    meaningful_words = [w for w in token_words if not w in stop]\n",
    "    parts_speech = [nltk.pos_tag(meaningful_words)][0]\n",
    "    speech_list = [d[1] for d in parts_speech]\n",
    "    joined_pos=(\" \".join(speech_list))\n",
    "    return joined_pos\n",
    "def clean(text):\n",
    "    data=text.split('Featured image')[0]\n",
    "    data=data.split('Photo by')[0]\n",
    "    data=data.split('connect Facebook')[0]\n",
    "    data=data.split('Follow Twitter')[0]\n",
    "    data=data.split('Follow him on Twitter')[0]\n",
    "    data=data.split('Follow her on Twitter')[0]\n",
    "    return data.split('Click buy')[0]\n",
    "    return data.split('Click buy')[0]\n",
    "def testrawtext(text):\n",
    "    text=clean(text)\n",
    "    text = re.sub(\"http://\\S+\",\" \", text)\n",
    "    text = re.sub(\"\\@\", \" \",text.lower())\n",
    "    text= text.replace('reuters','')\n",
    "    text=tokenizeandstopwords(text)\n",
    "    tsxt=[]\n",
    "    tsxt.append(text)\n",
    "    txt=pd.Series(data=tsxt)\n",
    "    mat=vect.transform(txt)\n",
    "    fat=flat.transform(mat)\n",
    "    print ('logistic classifier',log_clf.predict(mat)==0)\n",
    "    print ('ridge classifier',RC.best_estimator_.predict(mat)==0)\n",
    "    print ('decision tree',DT2.best_estimator_.predict(mat)==0)\n",
    "    print ('naive Bayes',NB.best_estimator_.predict(mat)==0)\n",
    "    print ('knn: Euclidean',knn.best_estimator_.predict(fat)==0)\n",
    "    print ('knn: cosine', knn3.best_estimator_.predict(fat)==0)\n",
    "    print ('gradient boosting classifier',GTB.best_estimator_.predict(mat)==0)"
   ]
  },
  {
   "cell_type": "markdown",
   "metadata": {},
   "source": [
    "Test texts pertaining to the 2020 election cycle and Covid-19 epidemic were haphazardly selected from the Internet from general-\n",
    "interest newspapers with free online access. 4 real news sites and 1 fake news site were included."
   ]
  },
  {
   "cell_type": "code",
   "execution_count": 51,
   "metadata": {},
   "outputs": [],
   "source": [
    "missoulian='''U.S. Rep. Greg Gianforte on Wednesday threaded the needle on face mask mandates put in place to reduce the spread of COVID-19.\n",
    "\n",
    "The gubernatorial candidate and his running mate, Kristen Juras, were stumping at the Missoula GOP field office Wednesday morning before a crowd of about 20, nearly all wearing masks except for the candidates.\n",
    "\n",
    "During a question-and-answer session with voters, one man asked how an unelected official — in this case a public health officer — can order people to wear a mask. The question resonated in a county where businesses have faced backlash for enforcing Missoula County's mandate, and came hours before Gov. Steve Bullock issued a statewide order to wear masks in certain settings. Indeed, Gianforte has had his own close call with the coronavirus after the girlfriend of Donald Trump Jr. tested positive for COVID-19 several days after she and Trump Jr. attended a campaign event at Big Sky. Gianforte wasn't at the event, but self-quarantined anyway because both his wife Susan and Juras were there.\n",
    "\n",
    "\n",
    "\"In emergency situations, there are authorities delegated to local authorities,\" Gianforte told the man. \"Let me tell you where I am: I don't want to second-guess the decisions that were made up until this point. But based on the input I have, I think, going forward, as a policy perspective as your next governor, we need to focus on keeping the most vulnerable safe, personal responsibility, not government mandates.\"\n",
    "\n",
    "After the event, Gianforte told the Missoulian he believes masks do \"have a role,\" and did not decry local governments for issuing their own orders, but again said personal responsibility should be emphasized.\n",
    "\n",
    "\"I trust local government to make decisions that are right for their communities,\" he said. \n",
    "\n",
    "Gianforte and Juras were in Missoula on the second day of their campaign tour touting their \"Montana Comeback Plan,\" an economic plan to return the state to economic stability following record unemployment and a cratered business landscape, both induced by the coronavirus pandemic. It also serves as a blueprint for focusing efforts on higher wages, manufacturing jobs and value-added agriculture so Montanans do not leave the state in search of good pay, he said. \n",
    "\n",
    "\"We've got to get our economy back open up again,\" he said. \"We have to keep people safe, but that's Step One. The remainder of the plan is, how do we build on that. … As we bring manufacturing jobs back from China, I want Montana to get its share of those jobs.\"Gianforte did not mention Trump by name throughout his speech on Wednesday, at least not until he took a question from another member of the crowd, Michael Priske. Priske was testy with the congressman for not answering his previously emailed questions in kind but with \"form letters.\" So Priske brought with him to the event a legal pad with his questions: Why did Gianforte not back the president on the Russian collusion claims? Why hasn't he taken a stand against the destruction of historic monuments? Why hasn't the congressman pushed back against defunding the police?\n",
    "\n",
    "\"What are you doing to address these issues, which are way bigger than trying to get Montana back to work?\" Priske said. \"Me and my wife are so disturbed about what's going on in Missoula right now, we think we are going to sell everything that we own and move to New Zealand.\"\n",
    "\n",
    "Gianforte told Priske his office takes about 5,000 inquiries a week, and said he wishes he could respond to each one. But Gianforte pushed back against the idea that he didn't stand with Trump.\n",
    "\n",
    "\"Let me be very clear, I stand with President Trump,\" he said. \"I’ve voted with him over 90% of the time in Congress. I agree with you that we need to stand with our police, this idea of defunding the police is a ridiculous idea. We are a country that relies on the rule of law.\"'''"
   ]
  },
  {
   "cell_type": "code",
   "execution_count": 52,
   "metadata": {},
   "outputs": [
    {
     "name": "stdout",
     "output_type": "stream",
     "text": [
      "logistic classifier [ True]\n",
      "ridge classifier [ True]\n",
      "decision tree [False]\n",
      "naive Bayes [ True]\n",
      "knn: Euclidean [ True]\n",
      "knn: cosine [ True]\n",
      "gradient boosting classifier [ True]\n"
     ]
    }
   ],
   "source": [
    "testrawtext(missoulian)"
   ]
  },
  {
   "cell_type": "code",
   "execution_count": 53,
   "metadata": {},
   "outputs": [],
   "source": [
    "fox='''Team Biden said it expects President Trump to “lie through his teeth” at the first presidential debate between the two nominees -- while downplaying the significance it could have on the race as Trump and Democratic nominee Joe Biden face off for the first time next week.\n",
    "\n",
    "\n",
    "“Fox News Sunday” anchor Chris Wallace has been selected to moderate the first presidential debate between Trump and Biden, the nonpartisan Commission on Presidential Debates (CPD) announced earlier this month.The debate is scheduled to take place Tuesday, Sept. 29 in Cleveland, Ohio.\n",
    "\n",
    "A source familiar with the former vice president’s campaign told Fox News that they expect Trump will be “extremely practiced” and “prepared” to debate Biden. But the source that “there is no debate performance that can fundamentally shift the race because of what people are living through,” referring to the coronavirus pandemic.\n",
    "\n",
    "“Everyone is stuck in a reality on account of Trump’s mismanagement, so there is no outcome during the debate that can really change the trajectory of this race,” the source told Fox News. “If Trump has a good debate, which we anticipate, and he has no compunctions about lying through his teeth and making things up on the spot, American life is still defined by his failure to have any plan to beat COVID.”\n",
    "\n",
    "The source added: “We know Donald Trump is going to lie through his teeth, but Joe Biden’s goal is to share his agenda, his plan and his values.\"\n",
    "\n",
    "A former Biden staffer also told Fox News that \"everybody knows\" the president now, and said that people are \"fully aware of how he operates and that he likes to lob insults and bait people by stating things that are not true.\"\"If you make that the fact that he lies all the time the issue, that’s less compelling than talking about how his lies have caused harm to the country,\" the staffer told Fox News. \"[Biden] needs to make Trump’s behavior relevant to voters. It has to be grounded in something that matters.”\n",
    "\n",
    "But Jay Carney, former White House press secretary for President Obama and former communications director for Biden as vice president, told Fox News that the debate itself could be a \"challenge.\"\n",
    "\n",
    "“I know Vice President Biden sees this as a serious challenge,\" Carney told Fox News. \"President Trump has an advantage in that he is an expert at delivering memorable sound bites and engaging in short-form scrums.\"\n",
    "\n",
    "Carney added that Trump \"gets in regular practice with all his short encounters with the press, and that kind of format, ironically, is close enough to what you experience in a debate that I doubt he’ll be rusty.”\n",
    "\n",
    "Carney said, however, that he thinks Biden \"will come in with a plan and will execute on it.\"\n",
    "\n",
    "\"And then we’ll have to see how successful the president is in disrupting it,\" Carney said.\n",
    "\n",
    "The early months of Biden’s third White House bid were marked by uneven debate performances and winding town halls in Iowa and New Hampshire. The floundering led to numerous stories about Biden’s gaffes and near-constant attacks from Trump about Biden’s mental fitness.\n",
    "\n",
    "\n",
    "Since then, however, the former vice president has drawn praise for both his performance against Sanders in March and, more recently, for his speech at last month’s Democratic National Convention.\n",
    "\n",
    "When asked whether the campaign was concerned about a debate night gaffe from the former vice president, the source defended Biden, saying that “the American people know this about him.”\n",
    "\n",
    "“In fact, it makes him more relatable to them,” the source said, while adding that the campaign “does not see the debate as a very big inflection point in the race.”\n",
    "\n",
    "\"We see that as something only the media cares about but that voters don’t,\" the source added.\n",
    "\n",
    "And former communications director for Pete Buttigieg’s presidential campaign, Lis Smith, shared a similar sentiment, saying that his gaffe-making is “part of his appeal.”\n",
    "\n",
    "“He comes across as a genuine, regular guy, and not like an overly programmed politician,” Smith said. “The narrative as Biden as a gaffe machine overlooks the reality that Joe Biden’s brand is being good ol’ regular Joe, Uncle Joe, and sometimes the things he says don’t come out quite right, but that’s part of his appeal as a politician.”\n",
    "\n",
    "She added: “Some people underestimate how baked in the cake some of this is about Joe Biden and how the fact that he isn’t a slick-talking, points-oriented politician works to his benefit. Most people don’t speak in perfect prose.”But Trump has seized on Biden’s gaffes along the campaign trail, questioning whether the former vice president was taking medication to enhance his primary debate performances — a topic he has raised repeatedly in the past several weeks, while calling for a mandatory drug test ahead of the general election debates.\n",
    "\n",
    "Trump offered no evidence to support his claims nor did he say what drug he thought Biden was taking.\n",
    "\n",
    "The president, during an exclusive interview with “Fox & Friends” Monday, though, said he thinks Biden is “a professional.”\n",
    "\n",
    "“I don’t know if he’s all there, but I think he’s a professional,” Trump said. “I have to assume that he is a professional and that he can debate.”As for his strategy should Trump lob personal attacks at the former vice president, the source told Fox News that Biden “will certainly stand up for himself and for American families.”\n",
    "\n",
    "But others familiar with Biden’s debate style suggested that he would rise above any insults, or personal attacks, by responding with arguments rooted in policy shortfalls of the Trump administration.\n",
    "\n",
    "“What was interesting watching the primary debates was that Biden did not engage when his primary opponents attacked him,” Smith told Fox News. “He was usually one of the big targets, and did face a number of nasty, fairly personal, attacks, but what I saw, and what we all saw, was that he sort of just brushed them off, laughed them off and kept going back to his own message rather than going down the rabbit hole of responding.”\n",
    "\n",
    "She added: “That’s going to be a really critical skill against Trump.”\n",
    "\n",
    "Smith said she anticipates the president will “do everything in his power” to get Biden “off message and in the mud with him.”\n",
    "\n",
    "“I just think history has shown that if you get down in the mud with Donald Trump, you probably won’t come out a winner of that one,” Smith said. “And that sort of discipline is going to be really important.”\n",
    "\n",
    "Carney also told Fox News he thinks Biden \"will stick to his plan and avoid getting into an insult competition.\"\n",
    "\n",
    "\"I think he’ll immediately go to the issues that people care about and keep returning to them,\" Carney said. \"You can certainly point out your opponent’s failings in the context of the issues that people care about, like health care, the coronavirus response, the economic welfare of the nation in a very precarious moment.\"\n",
    "\n",
    "He added: \"There are ways to do that but not make it personal – where Biden can make the case, for example, that the president’s response to COVID-19 has been a failure and that he would do a better job. He can do that on a lot of issues. He can make the contrast without getting into name-calling.”\n",
    "\n",
    "placeholder\n",
    "Meanwhile, as Team Biden is downplaying the debate’s impact in general, Team Trump is ramping up expectations, after months of undermining Biden’s abilities to take on the president.\n",
    "\n",
    "“Joe Biden has been a Washington politician for 47 years, he spent decades in the Senate where all they do is debate, he was vice president twice, and debated on the national stage in each of those races, and did very well,” Trump campaign Communications Director Tim Murtaugh said in an interview with Fox News Monday.\n",
    "\n",
    "“In the Democrat primaries, he debated a whole crowd of opponents, 11 times, and he won,” he continued. “He bested two dozen Democrat challengers.”\n",
    "\n",
    "Murtaugh added that Biden “knows his way around the debate stage.\n",
    "\n",
    "“He knows how to do it,” he said. “He’s actually quite good. That’s the Joe Biden we expect to see on debate night.”\n",
    "\n",
    "Murtaugh added: “We have to be prepared for the tuned-in Joe Biden.”\n",
    "\n",
    "Nevertheless, those in Biden’s camp are maintaining that the debate will have little influence on the race in general.\n",
    "\n",
    "placeholder\n",
    "“[Debates] used to have that potential to change things, but what seems to be true more and more is that they don’t have a significant impact on the race,\" Carney told Fox News, while adding that the race \"has been static, in Vice President Biden’s favor, for a long time, which means the president needs to find a way to disrupt the trajectory of the race.\"\n",
    "\n",
    "\"The debates give him an opportunity to do that,\" he said.\n",
    "\n",
    "“I think everyone is trying to build up the debate as a potential game-changer in this contest, but the story of 2020 has been a story of remarkable stability,” Smith added. “And if a global pandemic can’t fundamentally shift the dynamics of the race, I doubt the debate will.”'''"
   ]
  },
  {
   "cell_type": "code",
   "execution_count": 54,
   "metadata": {},
   "outputs": [
    {
     "name": "stdout",
     "output_type": "stream",
     "text": [
      "logistic classifier [False]\n",
      "ridge classifier [ True]\n",
      "decision tree [ True]\n",
      "naive Bayes [False]\n",
      "knn: Euclidean [False]\n",
      "knn: cosine [False]\n",
      "gradient boosting classifier [False]\n"
     ]
    }
   ],
   "source": [
    "testrawtext(fox)"
   ]
  },
  {
   "cell_type": "code",
   "execution_count": 55,
   "metadata": {},
   "outputs": [],
   "source": [
    "latimes='''President Trump refused Wednesday to commit to giving up power should he lose the November race, adding to concerns that a contested election could lead to a constitutional crisis and a unique challenge to the nation’s democracy.\n",
    "Trailing the Democratic nominee, Joe Biden, in national and swing state polls six weeks before Election Day, Trump again presented invented claims of voter fraud as a pretext for his campaign’s all but certain legal challenges and, for the first time, his possible refusal to vacate the Oval Office should he lose.\n",
    "\n",
    "When a reporter noted the already combustible American landscape and asked Trump if he would “commit here today for a peaceful transfer of all power after the election,” the president declined to do so.\n",
    "\n",
    "“We’re going to have to see what happens,” he said. “You know that I’ve been complaining very strongly about the ballots, and the ballots are a disaster.”“We want to get rid of the ballots and you’ll have a very peaceful — there won’t be a transfer, frankly. There will be a continuation,” he added, suggesting that he would only view an election that he wins as legitimate.\n",
    "\n",
    "Biden offered sarcasm but did not evince deep concern when he was asked about Trump’s statement.\n",
    "\n",
    "“What country are we in?,” he said in Wilmington, Del., after a day of campaigning. “Look, he says the most irrational things. I don’t know what to say.”Andrew Bates, a campaign spokesman, cited Biden’s statement on July 19. “The American people will decide this election,” he said at the time. “And the United States government is perfectly capable of escorting trespassers out of the White House.”\n",
    "\n",
    "Trump’s declaration that “there won’t be a transfer” alarmed election experts, even those inured to his penchant for falsehoods and controversy.\n",
    "\n",
    "“In case anyone is unclear on the concept, in the United States of America, we do not ‘get rid of’ ballots. We count them,” said Ellen L. Weintraub, a commissioner on the Federal Elections Commission. “Counting the ballots— all the ballots — is the way we determine who leads our country after our elections. The only way.”\n",
    "\n",
    "Republicans were largely silent. But Sen. Mitt Romney (R-Utah), the party’s 2012 presidential nominee and a sometimes critic of Trump, condemned his refusal to commit to leaving office if he loses.“Fundamental to democracy is the peaceful transition of power; without that, there is Belarus,” Romney tweeted. “Any suggestion that a president might not respect this Constitutional guarantee is both unthinkable and unacceptable.”\n",
    "\n",
    "The president’s warnings of lawsuits and de-legitimizing of the voting process has added uncertainty to a country already convulsed by a pandemic, recession, racial strife and climate disasters.\n",
    "\n",
    "“There’s an economic angle here, too,” Justin Wolfers, an economist at the University of Michigan, tweeted. “The legitimacy and stability of democratic institutions and the rule of law are critical to investment and to our long run economic health.”\n",
    "\n",
    "The president’s comments came hours after he suggested that he would push forward with filling a vacancy on the Supreme Court because it might be called upon to resolve a disputed election.\n",
    "\n",
    "Trump plans to nominate a conservative justice on Saturday to succeed liberal Ruth Bader Ginsburg, who died Friday, on the high court. The Republican-led Senate is expected to hold confirmation hearings in mid-October, and may hold a floor vote before Election Day.\n",
    "\n",
    "If confirmed, Trump’s pick would ensure a 6-3 conservative majority on the court, including three justices nominated by Trump.\n",
    "\n",
    "“I think this will end up in the Supreme Court,” Trump said. “And I think it’s very important that we have nine justices.”\n",
    "\n",
    "\n",
    "'''"
   ]
  },
  {
   "cell_type": "code",
   "execution_count": 56,
   "metadata": {},
   "outputs": [
    {
     "name": "stdout",
     "output_type": "stream",
     "text": [
      "logistic classifier [ True]\n",
      "ridge classifier [ True]\n",
      "decision tree [ True]\n",
      "naive Bayes [ True]\n",
      "knn: Euclidean [ True]\n",
      "knn: cosine [ True]\n",
      "gradient boosting classifier [ True]\n"
     ]
    }
   ],
   "source": [
    "testrawtext(latimes)"
   ]
  },
  {
   "cell_type": "code",
   "execution_count": 57,
   "metadata": {},
   "outputs": [],
   "source": [
    "usatoday='''A New York judge ordered Eric Trump to sit for a deposition with state investigators before Oct. 7, denying his attempt to push it off until after Election Day.\n",
    "\n",
    "New York Supreme Court Justice Arthur Engoron of Manhattan issued an oral ruling Wednesday siding with state Attorney General Letitia James' office, which sued Trump over his request to delay his deposition into November or beyond.\n",
    "\n",
    "James' office is investigating whether President Donald Trump and his companies improperly inflated the value of four of his properties, including the massive Seven Springs estate in northern Westchester County.\n",
    "\n",
    "The investigation is focused on whether the Trump Organization — which Eric Trump, the president's son, now leads — and the president benefitted financially from the potentially inflated values by getting better terms on loans and boosting tax write-offs.\n",
    "\n",
    "In an online hearing Tuesday, Alan Futerfas, an attorney for Eric Trump, said his client's seven-days-a-week campaign schedule will not allow enough time for him to prepare for a deposition in the case.\n",
    "\n",
    "Engoron was not convinced, calling Eric Trump's argument \"unpersuasive\" and ordering him to comply with the attorney general's deposition subpoena prior to Oct. 7.\n",
    "\n",
    "\n",
    "\"The court is not bound by the timeline of this election,\" Engoron said.\n",
    "\n",
    "Engoron said he would sign his order later Wednesday.\n",
    "\n",
    "James' ongoing investigation was launched after former Trump Organization attorney Michael Cohen accused Trump of inflating his assets. Cohen laid out his accusations during testimony to Congress in March 2019.\n",
    "\n",
    "According to court filings, the probe focuses on four major Trump properties, including the 212-acre Seven Springs estate in northern Westchester. Donald Trump had been trying to develop for years before agreeing to a conservation easement in 2015, prior to becoming president.\n",
    "\n",
    "The court documents from August show James' office is examining whether the Trump inflated the assessed value of the sprawling Westchester property, allowing one of his limited liability companies to claim a $21.1 million tax exemption on forms submitted to the IRS.\n",
    "\n",
    "\n",
    "\n",
    "\n",
    "'''"
   ]
  },
  {
   "cell_type": "code",
   "execution_count": 58,
   "metadata": {},
   "outputs": [
    {
     "name": "stdout",
     "output_type": "stream",
     "text": [
      "logistic classifier [ True]\n",
      "ridge classifier [ True]\n",
      "decision tree [ True]\n",
      "naive Bayes [ True]\n",
      "knn: Euclidean [ True]\n",
      "knn: cosine [False]\n",
      "gradient boosting classifier [ True]\n"
     ]
    }
   ],
   "source": [
    "testrawtext(usatoday)"
   ]
  },
  {
   "cell_type": "code",
   "execution_count": 59,
   "metadata": {},
   "outputs": [],
   "source": [
    "onion='As the Democratic presidential nominee ramped up his in-person efforts to get out the vote, members of the Joe Biden campaign reportedly went door-to-door Tuesday in the JPMorgan Chase headquarters. “Door-knocking is a core part of talking to supporters and getting our message out there, which is why we’re spending the day knocking on each and every office door in the entire building,” said Biden deputy campaign manager Pete Kavanaugh, adding that hundreds of volunteers were reaching out to every wealth manager, data analyst, and investment associate at the 383 Madison building to seek support and donations for the Democratic nominee before canvassing at the headquarters of Goldman Sachs and Morgan Stanley. “We explain to every potential supporter what a great candidate Biden is and how his vision for the country will make their lives better. We hope to get a commitment to vote, of course, but a little donation doesn’t hurt either. Polls show that the 12th floor is a tossup so we’re definitely focusing on that. A lot of these people were Hillary [Clinton] supporters in 2016, but we’re not taking anything for granted, and the Wall Street demographic represents our key supporters.” At press time, several members of the Biden campaign team expressed disappointment after speaking with several bankers who said they didn’t really see a difference between the two candidates.'"
   ]
  },
  {
   "cell_type": "code",
   "execution_count": 60,
   "metadata": {},
   "outputs": [
    {
     "name": "stdout",
     "output_type": "stream",
     "text": [
      "logistic classifier [False]\n",
      "ridge classifier [False]\n",
      "decision tree [ True]\n",
      "naive Bayes [False]\n",
      "knn: Euclidean [False]\n",
      "knn: cosine [ True]\n",
      "gradient boosting classifier [False]\n"
     ]
    }
   ],
   "source": [
    "testrawtext(onion)"
   ]
  }
 ],
 "metadata": {
  "kernelspec": {
   "display_name": "Python 3",
   "language": "python",
   "name": "python3"
  },
  "language_info": {
   "codemirror_mode": {
    "name": "ipython",
    "version": 3
   },
   "file_extension": ".py",
   "mimetype": "text/x-python",
   "name": "python",
   "nbconvert_exporter": "python",
   "pygments_lexer": "ipython3",
   "version": "3.8.3"
  }
 },
 "nbformat": 4,
 "nbformat_minor": 4
}
