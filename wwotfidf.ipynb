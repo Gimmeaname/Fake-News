{
 "cells": [
  {
   "cell_type": "markdown",
   "metadata": {},
   "source": [
    "importing cleaned-up data"
   ]
  },
  {
   "cell_type": "code",
   "execution_count": 1,
   "metadata": {},
   "outputs": [],
   "source": [
    "import numpy as np\n",
    "import matplotlib.pyplot as plt\n",
    "import pandas as pd\n",
    "data=pd.read_csv('newsminus.csv')\n",
    "data.text=data.text.str.replace('reuters','') #in case we missed it before\n"
   ]
  },
  {
   "cell_type": "markdown",
   "metadata": {},
   "source": [
    "Using scikit-learn to split into a training set and a test set. Using the default options of shuffling the data and dividing it into a 75% training/25% test split"
   ]
  },
  {
   "cell_type": "code",
   "execution_count": 2,
   "metadata": {},
   "outputs": [],
   "source": [
    "from sklearn.model_selection import train_test_split\n",
    "train,test= train_test_split(data)\n"
   ]
  },
  {
   "cell_type": "markdown",
   "metadata": {},
   "source": [
    "Discarding most of the training data after finding that use of all of it meant using a lot of time and memory."
   ]
  },
  {
   "cell_type": "code",
   "execution_count": 3,
   "metadata": {},
   "outputs": [],
   "source": [
    "train2=train.sample(frac=.1)\n",
    "X_train=train2.text\n",
    "y_train=train2.fake"
   ]
  },
  {
   "cell_type": "markdown",
   "metadata": {},
   "source": [
    "One more pass to eliminate non-string values from the text."
   ]
  },
  {
   "cell_type": "code",
   "execution_count": 4,
   "metadata": {},
   "outputs": [
    {
     "name": "stderr",
     "output_type": "stream",
     "text": [
      "<ipython-input-4-832e5abd3ea6>:1: SettingWithCopyWarning: \n",
      "A value is trying to be set on a copy of a slice from a DataFrame\n",
      "\n",
      "See the caveats in the documentation: https://pandas.pydata.org/pandas-docs/stable/user_guide/indexing.html#returning-a-view-versus-a-copy\n",
      "  X_train['type'] = X_train.apply(lambda row: type(row))\n"
     ]
    }
   ],
   "source": [
    "X_train['type'] = X_train.apply(lambda row: type(row))\n",
    "y_train=y_train[X_train.type==str]\n",
    "X_train['type'] = X_train.apply(lambda row: type(row)) #not sure but the following line wouldn't execute until I ran this again\n",
    "X_train=X_train[X_train.type==str] \n",
    "#print(X.shape)\n",
    "#print(y.shape)\n"
   ]
  },
  {
   "cell_type": "markdown",
   "metadata": {},
   "source": [
    "Converting into a vector of words (experiment showed that single words worked best when parts of speech weren't included)."
   ]
  },
  {
   "cell_type": "code",
   "execution_count": 5,
   "metadata": {},
   "outputs": [
    {
     "data": {
      "text/plain": [
       "TfidfVectorizer(max_features=100, stop_words='english')"
      ]
     },
     "execution_count": 5,
     "metadata": {},
     "output_type": "execute_result"
    }
   ],
   "source": [
    "from collections import Counter\n",
    "from sklearn.feature_extraction.text import TfidfVectorizer\n",
    "vect = TfidfVectorizer(stop_words='english', max_features=100) \n",
    "vect.fit(X_train)"
   ]
  },
  {
   "cell_type": "code",
   "execution_count": 6,
   "metadata": {},
   "outputs": [
    {
     "data": {
      "text/plain": [
       "{'united': 87,\n",
       " 'state': 78,\n",
       " 'house': 34,\n",
       " 'work': 96,\n",
       " 'democrat': 18,\n",
       " 'new': 52,\n",
       " 'life': 41,\n",
       " 'public': 68,\n",
       " 'people': 59,\n",
       " 'need': 51,\n",
       " 'like': 42,\n",
       " 'good': 29,\n",
       " 'woman': 95,\n",
       " 'family': 24,\n",
       " 'know': 38,\n",
       " 'say': 75,\n",
       " 'american': 3,\n",
       " 'report': 69,\n",
       " 'america': 2,\n",
       " 'way': 92,\n",
       " 'election': 22,\n",
       " 'time': 84,\n",
       " 'year': 98,\n",
       " 'right': 71,\n",
       " 'presidential': 67,\n",
       " 'government': 30,\n",
       " 'office': 56,\n",
       " 'campaign': 7,\n",
       " 'washington': 91,\n",
       " 'said': 74,\n",
       " 'president': 66,\n",
       " 'donald': 21,\n",
       " 'trump': 86,\n",
       " 'told': 85,\n",
       " 'make': 43,\n",
       " 'democratic': 19,\n",
       " 'white': 94,\n",
       " 'official': 57,\n",
       " 'law': 39,\n",
       " 'power': 65,\n",
       " 'think': 83,\n",
       " 'case': 9,\n",
       " 'help': 32,\n",
       " 'job': 37,\n",
       " 'including': 35,\n",
       " 'republican': 70,\n",
       " 'statement': 79,\n",
       " 'country': 15,\n",
       " 'news': 53,\n",
       " 'group': 31,\n",
       " 'according': 0,\n",
       " 'russia': 72,\n",
       " 'military': 46,\n",
       " 'security': 76,\n",
       " 'member': 45,\n",
       " 'police': 62,\n",
       " 'national': 50,\n",
       " 'attack': 4,\n",
       " 'russian': 73,\n",
       " 'support': 80,\n",
       " 'day': 17,\n",
       " 'obama': 55,\n",
       " 'world': 97,\n",
       " 'thing': 82,\n",
       " 'week': 93,\n",
       " 'north': 54,\n",
       " 'department': 20,\n",
       " 'company': 14,\n",
       " 'federal': 25,\n",
       " 'foreign': 27,\n",
       " 'policy': 63,\n",
       " 'month': 48,\n",
       " 'percent': 60,\n",
       " 'black': 5,\n",
       " 'medium': 44,\n",
       " 'issue': 36,\n",
       " 'going': 28,\n",
       " 'hillary': 33,\n",
       " 'clinton': 12,\n",
       " 'york': 99,\n",
       " 'million': 47,\n",
       " 'party': 58,\n",
       " 'want': 89,\n",
       " 'called': 6,\n",
       " 'administration': 1,\n",
       " 'plan': 61,\n",
       " 'email': 23,\n",
       " 'candidate': 8,\n",
       " 'nation': 49,\n",
       " 'war': 90,\n",
       " 'vote': 88,\n",
       " 'political': 64,\n",
       " 'senate': 77,\n",
       " 'change': 10,\n",
       " 'court': 16,\n",
       " 'come': 13,\n",
       " 'leader': 40,\n",
       " 'tax': 81,\n",
       " 'force': 26,\n",
       " 'city': 11}"
      ]
     },
     "execution_count": 6,
     "metadata": {},
     "output_type": "execute_result"
    }
   ],
   "source": [
    "vect.vocabulary_ #note that this version uses almost exclusively parts of speech and groups of parts of speech"
   ]
  },
  {
   "cell_type": "code",
   "execution_count": 7,
   "metadata": {},
   "outputs": [],
   "source": [
    "feature_matrix_train = vect.transform(X_train)"
   ]
  },
  {
   "cell_type": "code",
   "execution_count": 8,
   "metadata": {},
   "outputs": [
    {
     "data": {
      "text/plain": [
       "(4875, 100)"
      ]
     },
     "execution_count": 8,
     "metadata": {},
     "output_type": "execute_result"
    }
   ],
   "source": [
    "feature_matrix_train.shape"
   ]
  },
  {
   "cell_type": "code",
   "execution_count": 9,
   "metadata": {},
   "outputs": [
    {
     "data": {
      "text/plain": [
       "(4875,)"
      ]
     },
     "execution_count": 9,
     "metadata": {},
     "output_type": "execute_result"
    }
   ],
   "source": [
    "y_train.shape #checking for compatibility"
   ]
  },
  {
   "cell_type": "code",
   "execution_count": 11,
   "metadata": {},
   "outputs": [
    {
     "name": "stdout",
     "output_type": "stream",
     "text": [
      "[t-SNE] Computing 61 nearest neighbors...\n",
      "[t-SNE] Indexed 1000 samples in 0.040s...\n",
      "[t-SNE] Computed neighbors for 1000 samples in 0.272s...\n",
      "[t-SNE] Computed conditional probabilities for sample 1000 / 1000\n",
      "[t-SNE] Mean sigma: 0.295434\n",
      "[t-SNE] KL divergence after 250 iterations with early exaggeration: 93.588425\n",
      "[t-SNE] KL divergence after 1000 iterations: 1.503200\n"
     ]
    },
    {
     "data": {
      "text/plain": [
       "<matplotlib.legend.Legend at 0x17bad44a070>"
      ]
     },
     "execution_count": 11,
     "metadata": {},
     "output_type": "execute_result"
    },
    {
     "data": {
      "image/png": "[encoded data removed]",
      "text/plain": [
       "<Figure size 864x360 with 1 Axes>"
      ]
     },
     "metadata": {
      "needs_background": "light"
     },
     "output_type": "display_data"
    }
   ],
   "source": [
    "from sklearn.manifold import TSNE\n",
    "matrix=feature_matrix_train.toarray()[:1000]\n",
    "vector=y_train[:1000]\n",
    "tsne_reduction=TSNE(n_components=2,perplexity=20,verbose=1) \n",
    "feature_matrix_reduced=tsne_reduction.fit_transform(matrix)\n",
    "plt.figure(figsize=(12,5))\n",
    "plt.plot(feature_matrix_reduced[vector==1,0],feature_matrix_reduced[vector==1,1],'bo',label='fake')\n",
    "plt.plot(feature_matrix_reduced[vector==0,0],feature_matrix_reduced[vector==0,1],'ro',label='real')\n",
    "plt.legend()"
   ]
  },
  {
   "cell_type": "markdown",
   "metadata": {},
   "source": [
    "Fitting and testing a logistic regression model after transforming the test set to be conformable with the training set."
   ]
  },
  {
   "cell_type": "code",
   "execution_count": 12,
   "metadata": {},
   "outputs": [],
   "source": [
    "from sklearn.linear_model import LogisticRegression"
   ]
  },
  {
   "cell_type": "code",
   "execution_count": 13,
   "metadata": {},
   "outputs": [
    {
     "data": {
      "text/plain": [
       "LogisticRegression(max_iter=1000)"
      ]
     },
     "execution_count": 13,
     "metadata": {},
     "output_type": "execute_result"
    }
   ],
   "source": [
    "log_clf = LogisticRegression(max_iter=1000)\n",
    "log_clf.fit(feature_matrix_train,y_train)\n"
   ]
  },
  {
   "cell_type": "code",
   "execution_count": 15,
   "metadata": {},
   "outputs": [
    {
     "data": {
      "text/plain": [
       "<matplotlib.collections.PathCollection at 0x17bad6a20a0>"
      ]
     },
     "execution_count": 15,
     "metadata": {},
     "output_type": "execute_result"
    },
    {
     "data": {
      "image/png": "[encoded data removed]",
      "text/plain": [
       "<Figure size 432x288 with 1 Axes>"
      ]
     },
     "metadata": {
      "needs_background": "light"
     },
     "output_type": "display_data"
    }
   ],
   "source": [
    "x=np.linspace(1,100,num=100)\n",
    "plt.scatter(x,np.sort(np.absolute(log_clf.coef_)))\n",
    "#this plot gives an idea of how many words to include if combining word data and parts of speech tagging. We can see that the\n",
    "#top 30 or so words are quite a bit more informative than the next 70."
   ]
  },
  {
   "cell_type": "code",
   "execution_count": 16,
   "metadata": {},
   "outputs": [
    {
     "name": "stderr",
     "output_type": "stream",
     "text": [
      "<ipython-input-16-54aa12b9a88b>:3: SettingWithCopyWarning: \n",
      "A value is trying to be set on a copy of a slice from a DataFrame\n",
      "\n",
      "See the caveats in the documentation: https://pandas.pydata.org/pandas-docs/stable/user_guide/indexing.html#returning-a-view-versus-a-copy\n",
      "  X_test['type'] = X_test.apply(lambda row: type(row))\n",
      "C:\\Users\\User\\anaconda3\\lib\\site-packages\\pandas\\core\\indexing.py:671: SettingWithCopyWarning: \n",
      "A value is trying to be set on a copy of a slice from a DataFrame\n",
      "\n",
      "See the caveats in the documentation: https://pandas.pydata.org/pandas-docs/stable/user_guide/indexing.html#returning-a-view-versus-a-copy\n",
      "  self._setitem_with_indexer(indexer, value)\n",
      "C:\\Users\\User\\anaconda3\\lib\\site-packages\\IPython\\core\\interactiveshell.py:3343: SettingWithCopyWarning: \n",
      "A value is trying to be set on a copy of a slice from a DataFrame\n",
      "\n",
      "See the caveats in the documentation: https://pandas.pydata.org/pandas-docs/stable/user_guide/indexing.html#returning-a-view-versus-a-copy\n",
      "  exec(code_obj, self.user_global_ns, self.user_ns)\n",
      "<ipython-input-16-54aa12b9a88b>:5: SettingWithCopyWarning: \n",
      "A value is trying to be set on a copy of a slice from a DataFrame\n",
      "\n",
      "See the caveats in the documentation: https://pandas.pydata.org/pandas-docs/stable/user_guide/indexing.html#returning-a-view-versus-a-copy\n",
      "  X_test['type'] = X_test.apply(lambda row: type(row)) #not sure but the following line wouldn't execute until I ran this again\n"
     ]
    }
   ],
   "source": [
    "X_test=test.text\n",
    "y_test=test.fake\n",
    "X_test['type'] = X_test.apply(lambda row: type(row))\n",
    "y_test=y_test[X_test.type==str]\n",
    "X_test['type'] = X_test.apply(lambda row: type(row)) #not sure but the following line wouldn't execute until I ran this again\n",
    "X_test=X_test[X_test.type==str] \n",
    "feature_matrix_test = vect.transform(X_test)\n"
   ]
  },
  {
   "cell_type": "markdown",
   "metadata": {},
   "source": [
    "The dummy classifier treats the prediction as a Bernoulli random variable with probability assignments depending on the class distribution in the test set. We include it as a measure against which we test the success of our other methods."
   ]
  },
  {
   "cell_type": "code",
   "execution_count": 17,
   "metadata": {},
   "outputs": [
    {
     "data": {
      "text/plain": [
       "array([[4046, 3999],\n",
       "       [4114, 4063]], dtype=int64)"
      ]
     },
     "execution_count": 17,
     "metadata": {},
     "output_type": "execute_result"
    }
   ],
   "source": [
    "from sklearn.dummy import DummyClassifier\n",
    "dummy=DummyClassifier(strategy='stratified')\n",
    "dummy.fit(feature_matrix_test,y_test)\n",
    "y_test_pred=dummy.predict(feature_matrix_test)\n",
    "from sklearn.metrics import confusion_matrix,accuracy_score\n",
    "confusion_matrix(y_test,y_test_pred)"
   ]
  },
  {
   "cell_type": "code",
   "execution_count": 18,
   "metadata": {},
   "outputs": [
    {
     "data": {
      "text/plain": [
       "0.49987671063987177"
      ]
     },
     "execution_count": 18,
     "metadata": {},
     "output_type": "execute_result"
    }
   ],
   "source": [
    "accuracy_score(y_test,y_test_pred)"
   ]
  },
  {
   "cell_type": "markdown",
   "metadata": {},
   "source": [
    "The logistic regression classifier does better even though the dummy classifier was trained on the test data."
   ]
  },
  {
   "cell_type": "code",
   "execution_count": 19,
   "metadata": {},
   "outputs": [
    {
     "data": {
      "text/plain": [
       "array([[6595, 1450],\n",
       "       [1206, 6971]], dtype=int64)"
      ]
     },
     "execution_count": 19,
     "metadata": {},
     "output_type": "execute_result"
    }
   ],
   "source": [
    "y_test_pred = log_clf.predict(feature_matrix_test)\n",
    "confusion_matrix(y_test,y_test_pred)"
   ]
  },
  {
   "cell_type": "code",
   "execution_count": 20,
   "metadata": {},
   "outputs": [
    {
     "data": {
      "text/plain": [
       "0.8362717297497226"
      ]
     },
     "execution_count": 20,
     "metadata": {},
     "output_type": "execute_result"
    }
   ],
   "source": [
    "accuracy_score(y_test,y_test_pred)"
   ]
  },
  {
   "cell_type": "code",
   "execution_count": 21,
   "metadata": {},
   "outputs": [
    {
     "data": {
      "text/plain": [
       "{'alpha': 1}"
      ]
     },
     "execution_count": 21,
     "metadata": {},
     "output_type": "execute_result"
    }
   ],
   "source": [
    "from sklearn.linear_model import RidgeClassifier\n",
    "from sklearn.model_selection import GridSearchCV\n",
    "parameters={'alpha':[0,.01,.1,1]}\n",
    "RCbasic=RidgeClassifier(max_iter=1000, solver='sparse_cg')\n",
    "RC=GridSearchCV(RCbasic,parameters)\n",
    "RC.fit(feature_matrix_train,y_train)\n",
    "RC.best_params_"
   ]
  },
  {
   "cell_type": "code",
   "execution_count": 22,
   "metadata": {
    "scrolled": true
   },
   "outputs": [
    {
     "data": {
      "text/plain": [
       "array([[6546, 1499],\n",
       "       [1174, 7003]], dtype=int64)"
      ]
     },
     "execution_count": 22,
     "metadata": {},
     "output_type": "execute_result"
    }
   ],
   "source": [
    "y_test_pred = RC.best_estimator_.predict(feature_matrix_test)\n",
    "confusion_matrix(y_test,y_test_pred)"
   ]
  },
  {
   "cell_type": "code",
   "execution_count": 23,
   "metadata": {},
   "outputs": [
    {
     "data": {
      "text/plain": [
       "0.8352237701886327"
      ]
     },
     "execution_count": 23,
     "metadata": {},
     "output_type": "execute_result"
    }
   ],
   "source": [
    "accuracy_score(y_test,y_test_pred)"
   ]
  },
  {
   "cell_type": "code",
   "execution_count": 24,
   "metadata": {},
   "outputs": [
    {
     "data": {
      "text/plain": [
       "{'max_depth': 6, 'max_features': None}"
      ]
     },
     "execution_count": 24,
     "metadata": {},
     "output_type": "execute_result"
    }
   ],
   "source": [
    "from sklearn.tree import DecisionTreeClassifier\n",
    "DT=DecisionTreeClassifier(criterion='entropy')\n",
    "parameters={'max_depth':[2,3,4,6,None],'max_features':['auto','log2',None]}\n",
    "DT2=GridSearchCV(DT,parameters)\n",
    "DT2.fit(feature_matrix_train,y_train)\n",
    "DT2.best_params_"
   ]
  },
  {
   "cell_type": "code",
   "execution_count": 25,
   "metadata": {},
   "outputs": [
    {
     "data": {
      "text/plain": [
       "array([[6434, 1611],\n",
       "       [1841, 6336]], dtype=int64)"
      ]
     },
     "execution_count": 25,
     "metadata": {},
     "output_type": "execute_result"
    }
   ],
   "source": [
    "y_test_pred=DT2.best_estimator_.predict(feature_matrix_test)\n",
    "confusion_matrix(y_test,y_test_pred)"
   ]
  },
  {
   "cell_type": "code",
   "execution_count": 26,
   "metadata": {},
   "outputs": [
    {
     "data": {
      "text/plain": [
       "0.7872025644186906"
      ]
     },
     "execution_count": 26,
     "metadata": {},
     "output_type": "execute_result"
    }
   ],
   "source": [
    "accuracy_score(y_test,y_test_pred)"
   ]
  },
  {
   "cell_type": "code",
   "execution_count": 29,
   "metadata": {},
   "outputs": [],
   "source": [
    "from sklearn.naive_bayes import MultinomialNB"
   ]
  },
  {
   "cell_type": "code",
   "execution_count": 30,
   "metadata": {},
   "outputs": [
    {
     "data": {
      "text/plain": [
       "{'alpha': 1}"
      ]
     },
     "execution_count": 30,
     "metadata": {},
     "output_type": "execute_result"
    }
   ],
   "source": [
    "NBbasic=MultinomialNB() \n",
    "parameters={'alpha':[.001,.01,.1,1]}\n",
    "NB=GridSearchCV(NBbasic,parameters)\n",
    "NB.fit(feature_matrix_train,y_train)\n",
    "NB.best_params_"
   ]
  },
  {
   "cell_type": "code",
   "execution_count": 31,
   "metadata": {},
   "outputs": [
    {
     "data": {
      "text/plain": [
       "array([[6405, 1640],\n",
       "       [1787, 6390]], dtype=int64)"
      ]
     },
     "execution_count": 31,
     "metadata": {},
     "output_type": "execute_result"
    }
   ],
   "source": [
    "y_test_pred=NB.best_estimator_.predict(feature_matrix_test) \n",
    "confusion_matrix(y_test,y_test_pred)"
   ]
  },
  {
   "cell_type": "code",
   "execution_count": 32,
   "metadata": {},
   "outputs": [
    {
     "data": {
      "text/plain": [
       "0.7887436814202934"
      ]
     },
     "execution_count": 32,
     "metadata": {},
     "output_type": "execute_result"
    }
   ],
   "source": [
    "accuracy_score(y_test,y_test_pred)"
   ]
  },
  {
   "cell_type": "markdown",
   "metadata": {},
   "source": [
    "Had to reduce the dimensionality from the 100-feature matrix we had to avoid getting memory overflows when doing a k-nn\n",
    "classification."
   ]
  },
  {
   "cell_type": "code",
   "execution_count": 33,
   "metadata": {},
   "outputs": [
    {
     "data": {
      "text/plain": [
       "TruncatedSVD(n_components=10)"
      ]
     },
     "execution_count": 33,
     "metadata": {},
     "output_type": "execute_result"
    }
   ],
   "source": [
    "from sklearn.neighbors import KNeighborsClassifier\n",
    "parameters={'n_neighbors':[4,10,15],'weights':['distance','uniform']}\n",
    "knnbegin=KNeighborsClassifier() #selected for n_neighbors and weights via grid search\n",
    "from sklearn.decomposition import TruncatedSVD\n",
    "flat=TruncatedSVD(n_components=10) #still getting memory errors with 100 features\n",
    "flat.fit(feature_matrix_train)\n"
   ]
  },
  {
   "cell_type": "code",
   "execution_count": 34,
   "metadata": {},
   "outputs": [],
   "source": [
    "ftrain=flat.transform(feature_matrix_train)"
   ]
  },
  {
   "cell_type": "markdown",
   "metadata": {},
   "source": [
    "knn.fit(ftrain,y_train) #nothing to fit I guess but this seems to work as intended"
   ]
  },
  {
   "cell_type": "code",
   "execution_count": 35,
   "metadata": {},
   "outputs": [
    {
     "data": {
      "text/plain": [
       "{'n_neighbors': 15, 'weights': 'distance'}"
      ]
     },
     "execution_count": 35,
     "metadata": {},
     "output_type": "execute_result"
    }
   ],
   "source": [
    "knn=GridSearchCV(knnbegin,parameters)\n",
    "knn.fit(ftrain,y_train)\n",
    "knn.best_params_"
   ]
  },
  {
   "cell_type": "code",
   "execution_count": 36,
   "metadata": {},
   "outputs": [],
   "source": [
    "ftest=flat.transform(feature_matrix_test)"
   ]
  },
  {
   "cell_type": "code",
   "execution_count": 37,
   "metadata": {},
   "outputs": [
    {
     "data": {
      "text/plain": [
       "array([[6351, 1694],\n",
       "       [1158, 7019]], dtype=int64)"
      ]
     },
     "execution_count": 37,
     "metadata": {},
     "output_type": "execute_result"
    }
   ],
   "source": [
    "y_test_pred=knn.best_estimator_.predict(ftest)\n",
    "confusion_matrix(y_test,y_test_pred)\n"
   ]
  },
  {
   "cell_type": "code",
   "execution_count": 38,
   "metadata": {},
   "outputs": [
    {
     "data": {
      "text/plain": [
       "0.824189372457157"
      ]
     },
     "execution_count": 38,
     "metadata": {},
     "output_type": "execute_result"
    }
   ],
   "source": [
    "accuracy_score(y_test,y_test_pred)"
   ]
  },
  {
   "cell_type": "markdown",
   "metadata": {},
   "source": [
    "Using cosine similarity instead of Euclidean distance for k-nn classifier."
   ]
  },
  {
   "cell_type": "code",
   "execution_count": 39,
   "metadata": {},
   "outputs": [],
   "source": [
    "knn2=KNeighborsClassifier(metric='cosine')\n",
    "parameters={'n_neighbors':[4,10,15]}"
   ]
  },
  {
   "cell_type": "code",
   "execution_count": 40,
   "metadata": {},
   "outputs": [
    {
     "data": {
      "text/plain": [
       "GridSearchCV(estimator=KNeighborsClassifier(metric='cosine'),\n",
       "             param_grid={'n_neighbors': [4, 10, 15]})"
      ]
     },
     "execution_count": 40,
     "metadata": {},
     "output_type": "execute_result"
    }
   ],
   "source": [
    "knn3=GridSearchCV(knn2,parameters)\n",
    "knn3.fit(ftrain,y_train)"
   ]
  },
  {
   "cell_type": "code",
   "execution_count": 41,
   "metadata": {},
   "outputs": [
    {
     "data": {
      "text/plain": [
       "{'n_neighbors': 15}"
      ]
     },
     "execution_count": 41,
     "metadata": {},
     "output_type": "execute_result"
    }
   ],
   "source": [
    "knn3.best_params_"
   ]
  },
  {
   "cell_type": "markdown",
   "metadata": {},
   "source": [
    "Also had to use a smaller test set to look for cosine similarity to avoid memory errors. Setting up the test set and then testing on it."
   ]
  },
  {
   "cell_type": "code",
   "execution_count": 42,
   "metadata": {},
   "outputs": [
    {
     "name": "stderr",
     "output_type": "stream",
     "text": [
      "<ipython-input-42-322e9c900a5b>:4: SettingWithCopyWarning: \n",
      "A value is trying to be set on a copy of a slice from a DataFrame\n",
      "\n",
      "See the caveats in the documentation: https://pandas.pydata.org/pandas-docs/stable/user_guide/indexing.html#returning-a-view-versus-a-copy\n",
      "  X_test2['type'] = X_test2.apply(lambda row: type(row))\n"
     ]
    }
   ],
   "source": [
    "test2=test.sample(frac=.25)\n",
    "X_test2=test2.text\n",
    "y_test2=test2.fake\n",
    "X_test2['type'] = X_test2.apply(lambda row: type(row))\n",
    "y_test2=y_test2[X_test2.type==str]\n",
    "X_test2['type'] = X_test2.apply(lambda row: type(row)) #not sure but the following line wouldn't execute until I ran this again\n",
    "X_test2=X_test2[X_test2.type==str] "
   ]
  },
  {
   "cell_type": "code",
   "execution_count": 43,
   "metadata": {},
   "outputs": [],
   "source": [
    "feature_matrix_test2 = vect.transform(X_test2)\n",
    "ftest2=flat.transform(feature_matrix_test2)"
   ]
  },
  {
   "cell_type": "code",
   "execution_count": 44,
   "metadata": {},
   "outputs": [
    {
     "data": {
      "text/plain": [
       "array([[1695,  368],\n",
       "       [ 347, 1652]], dtype=int64)"
      ]
     },
     "execution_count": 44,
     "metadata": {},
     "output_type": "execute_result"
    }
   ],
   "source": [
    "y_test_pred=knn3.best_estimator_.predict(ftest2)\n",
    "confusion_matrix(y_test2,y_test_pred)"
   ]
  },
  {
   "cell_type": "code",
   "execution_count": 45,
   "metadata": {},
   "outputs": [
    {
     "data": {
      "text/plain": [
       "0.8239783357951748"
      ]
     },
     "execution_count": 45,
     "metadata": {},
     "output_type": "execute_result"
    }
   ],
   "source": [
    "accuracy_score(y_test2,y_test_pred)"
   ]
  },
  {
   "cell_type": "markdown",
   "metadata": {},
   "source": [
    "Testing the k-nn Euclidean distance version on the same size test set."
   ]
  },
  {
   "cell_type": "code",
   "execution_count": 46,
   "metadata": {},
   "outputs": [
    {
     "data": {
      "text/plain": [
       "array([[1627,  436],\n",
       "       [ 281, 1718]], dtype=int64)"
      ]
     },
     "execution_count": 46,
     "metadata": {},
     "output_type": "execute_result"
    }
   ],
   "source": [
    "y_test_pred=knn.best_estimator_.predict(ftest2)\n",
    "confusion_matrix(y_test2,y_test_pred)"
   ]
  },
  {
   "cell_type": "code",
   "execution_count": 47,
   "metadata": {},
   "outputs": [
    {
     "data": {
      "text/plain": [
       "0.8234859675036927"
      ]
     },
     "execution_count": 47,
     "metadata": {},
     "output_type": "execute_result"
    }
   ],
   "source": [
    "accuracy_score(y_test2,y_test_pred)"
   ]
  },
  {
   "cell_type": "markdown",
   "metadata": {},
   "source": [
    "Gradient boosting classifier is a newer classification method with a good track record. In the basic version seen here it builds a number of decision trees (100 is the default; more trees usually result in better predictions since the model is considered fairly robust to overfitting). Ultimately it returns an average of all the trees that are built weighted by the \n",
    "accuracy of each one. However, unlike in a random forest, each tree that is built after the first one is fitted to the residual \n",
    "of the weighted predictions so far, so that each new tree that is built corrects for the errors from the previous model."
   ]
  },
  {
   "cell_type": "code",
   "execution_count": 48,
   "metadata": {},
   "outputs": [],
   "source": [
    "from sklearn.ensemble import GradientBoostingClassifier\n",
    "GTB_clf = GradientBoostingClassifier()"
   ]
  },
  {
   "cell_type": "markdown",
   "metadata": {},
   "source": [
    "Parameters that can profitably tuned include the depth of the trees and the maximum number of features to be \n",
    "considered when looking for the best split in each tree."
   ]
  },
  {
   "cell_type": "code",
   "execution_count": 49,
   "metadata": {},
   "outputs": [
    {
     "data": {
      "text/plain": [
       "GridSearchCV(estimator=GradientBoostingClassifier(),\n",
       "             param_grid={'max_depth': [2, 3, 4, 6, None],\n",
       "                         'max_features': ('auto', 'log2', None)})"
      ]
     },
     "execution_count": 49,
     "metadata": {},
     "output_type": "execute_result"
    }
   ],
   "source": [
    "parameters={'max_features':('auto','log2',None), 'max_depth':[2,3,4,6,None]}\n",
    "GTB=GridSearchCV(GTB_clf,parameters)\n",
    "GTB.fit(feature_matrix_train,y_train)"
   ]
  },
  {
   "cell_type": "code",
   "execution_count": 50,
   "metadata": {},
   "outputs": [
    {
     "data": {
      "text/plain": [
       "{'max_depth': None, 'max_features': 'log2'}"
      ]
     },
     "execution_count": 50,
     "metadata": {},
     "output_type": "execute_result"
    }
   ],
   "source": [
    "GTB.best_params_"
   ]
  },
  {
   "cell_type": "code",
   "execution_count": 51,
   "metadata": {},
   "outputs": [
    {
     "data": {
      "text/plain": [
       "array([[6774, 1271],\n",
       "       [1065, 7112]], dtype=int64)"
      ]
     },
     "execution_count": 51,
     "metadata": {},
     "output_type": "execute_result"
    }
   ],
   "source": [
    "y_test_pred=GTB.best_estimator_.predict(feature_matrix_test)\n",
    "confusion_matrix(y_test,y_test_pred)"
   ]
  },
  {
   "cell_type": "code",
   "execution_count": 52,
   "metadata": {},
   "outputs": [
    {
     "data": {
      "text/plain": [
       "0.855998027370238"
      ]
     },
     "execution_count": 52,
     "metadata": {},
     "output_type": "execute_result"
    }
   ],
   "source": [
    "accuracy_score(y_test,y_test_pred)"
   ]
  },
  {
   "cell_type": "markdown",
   "metadata": {},
   "source": [
    "A function to transform raw text in identical fashion to the transformations used on the text in our training data, and to test\n",
    "each of the classification algorithms on a given text."
   ]
  },
  {
   "cell_type": "code",
   "execution_count": 64,
   "metadata": {},
   "outputs": [
    {
     "name": "stderr",
     "output_type": "stream",
     "text": [
      "[nltk_data] Downloading package stopwords to\n",
      "[nltk_data]     C:\\Users\\User\\AppData\\Roaming\\nltk_data...\n",
      "[nltk_data]   Package stopwords is already up-to-date!\n",
      "[nltk_data] Downloading package averaged_perceptron_tagger to\n",
      "[nltk_data]     C:\\Users\\User\\AppData\\Roaming\\nltk_data...\n",
      "[nltk_data]   Package averaged_perceptron_tagger is already up-to-\n",
      "[nltk_data]       date!\n"
     ]
    }
   ],
   "source": [
    "import nltk\n",
    "nltk.download('stopwords')\n",
    "nltk.download('averaged_perceptron_tagger')\n",
    "from nltk.corpus import stopwords\n",
    "stop=stopwords.words('english')\n",
    "import re\n",
    "def tokenizeandstopwords(text):\n",
    "    tokens = nltk.word_tokenize(text)\n",
    "    # taken only words (not punctuation)\n",
    "    token_words = [w for w in tokens if w.isalpha()]\n",
    "    meaningful_words = [w for w in token_words if not w in stop]\n",
    "    joined_words = ( \" \".join(meaningful_words))\n",
    "    return joined_words\n",
    "def clean(text):\n",
    "    data=text.split('Featured image')[0]\n",
    "    data=data.split('Photo by')[0]\n",
    "    data=data.split('connect Facebook')[0]\n",
    "    data=data.split('Follow Twitter')[0]\n",
    "    data=data.split('Follow him on Twitter')[0]\n",
    "    data=data.split('Follow her on Twitter')[0]\n",
    "    return data.split('Click buy')[0]\n",
    "    return data.split('Click buy')[0]\n",
    "def basic_clean(text):\n",
    "  \"\"\"\n",
    "  A simple function to clean up the data. All the words that\n",
    "  are not designated as a stop word is then lemmatized after\n",
    "  encoding and basic regex parsing are performed.\n",
    "  \"\"\"\n",
    "  wnl = nltk.stem.WordNetLemmatizer()\n",
    "  stopwords = nltk.corpus.stopwords.words('english')\n",
    "  words = re.sub(r'[^\\w\\s]', '', text).split()\n",
    "  return [wnl.lemmatize(word) for word in words if word not in stopwords]\n",
    "def testrawtext(text):\n",
    "    text=clean(text)\n",
    "    text = re.sub(\"http://\\S+\",\" \", text)\n",
    "    text = re.sub(\"\\@\", \" \",text.lower())\n",
    "    text= text.replace('reuters','')\n",
    "    text=tokenizeandstopwords(text)\n",
    "    data=basic_clean(text)\n",
    "    text=' '.join(word for word in data)\n",
    "    tsxt=[]\n",
    "    tsxt.append(text)\n",
    "    txt=pd.Series(data=tsxt)\n",
    "    mat=vect.transform(txt)\n",
    "    fat=flat.transform(mat)\n",
    "    print ('logistic classifier',log_clf.predict(mat)==0)\n",
    "    print ('ridge classifier',RC.best_estimator_.predict(mat)==0)\n",
    "    print ('decision tree',DT2.best_estimator_.predict(mat)==0)\n",
    "    print ('naive Bayes',NB.best_estimator_.predict(mat)==0)\n",
    "    print ('knn: Euclidean',knn.best_estimator_.predict(fat)==0)\n",
    "    print ('knn: cosine', knn3.best_estimator_.predict(fat)==0)\n",
    "    print ('gradient boosting classifier',GTB.best_estimator_.predict(mat)==0)\n",
    "   "
   ]
  },
  {
   "cell_type": "markdown",
   "metadata": {},
   "source": [
    "Test texts pertaining to the 2020 election cycle and Covid-19 epidemic were haphazardly selected from the Internet from general-\n",
    "interest newspapers with free online access. 4 real news sites and 1 fake news site were included."
   ]
  },
  {
   "cell_type": "code",
   "execution_count": 65,
   "metadata": {},
   "outputs": [],
   "source": [
    "missoulian='''U.S. Rep. Greg Gianforte on Wednesday threaded the needle on face mask mandates put in place to reduce the spread of COVID-19.\n",
    "\n",
    "The gubernatorial candidate and his running mate, Kristen Juras, were stumping at the Missoula GOP field office Wednesday morning before a crowd of about 20, nearly all wearing masks except for the candidates.\n",
    "\n",
    "During a question-and-answer session with voters, one man asked how an unelected official — in this case a public health officer — can order people to wear a mask. The question resonated in a county where businesses have faced backlash for enforcing Missoula County's mandate, and came hours before Gov. Steve Bullock issued a statewide order to wear masks in certain settings. Indeed, Gianforte has had his own close call with the coronavirus after the girlfriend of Donald Trump Jr. tested positive for COVID-19 several days after she and Trump Jr. attended a campaign event at Big Sky. Gianforte wasn't at the event, but self-quarantined anyway because both his wife Susan and Juras were there.\n",
    "\n",
    "\n",
    "\"In emergency situations, there are authorities delegated to local authorities,\" Gianforte told the man. \"Let me tell you where I am: I don't want to second-guess the decisions that were made up until this point. But based on the input I have, I think, going forward, as a policy perspective as your next governor, we need to focus on keeping the most vulnerable safe, personal responsibility, not government mandates.\"\n",
    "\n",
    "After the event, Gianforte told the Missoulian he believes masks do \"have a role,\" and did not decry local governments for issuing their own orders, but again said personal responsibility should be emphasized.\n",
    "\n",
    "\"I trust local government to make decisions that are right for their communities,\" he said. \n",
    "\n",
    "Gianforte and Juras were in Missoula on the second day of their campaign tour touting their \"Montana Comeback Plan,\" an economic plan to return the state to economic stability following record unemployment and a cratered business landscape, both induced by the coronavirus pandemic. It also serves as a blueprint for focusing efforts on higher wages, manufacturing jobs and value-added agriculture so Montanans do not leave the state in search of good pay, he said. \n",
    "\n",
    "\"We've got to get our economy back open up again,\" he said. \"We have to keep people safe, but that's Step One. The remainder of the plan is, how do we build on that. … As we bring manufacturing jobs back from China, I want Montana to get its share of those jobs.\"Gianforte did not mention Trump by name throughout his speech on Wednesday, at least not until he took a question from another member of the crowd, Michael Priske. Priske was testy with the congressman for not answering his previously emailed questions in kind but with \"form letters.\" So Priske brought with him to the event a legal pad with his questions: Why did Gianforte not back the president on the Russian collusion claims? Why hasn't he taken a stand against the destruction of historic monuments? Why hasn't the congressman pushed back against defunding the police?\n",
    "\n",
    "\"What are you doing to address these issues, which are way bigger than trying to get Montana back to work?\" Priske said. \"Me and my wife are so disturbed about what's going on in Missoula right now, we think we are going to sell everything that we own and move to New Zealand.\"\n",
    "\n",
    "Gianforte told Priske his office takes about 5,000 inquiries a week, and said he wishes he could respond to each one. But Gianforte pushed back against the idea that he didn't stand with Trump.\n",
    "\n",
    "\"Let me be very clear, I stand with President Trump,\" he said. \"I’ve voted with him over 90% of the time in Congress. I agree with you that we need to stand with our police, this idea of defunding the police is a ridiculous idea. We are a country that relies on the rule of law.\"'''"
   ]
  },
  {
   "cell_type": "code",
   "execution_count": 66,
   "metadata": {},
   "outputs": [
    {
     "name": "stdout",
     "output_type": "stream",
     "text": [
      "logistic classifier [ True]\n",
      "ridge classifier [ True]\n",
      "decision tree [ True]\n",
      "naive Bayes [ True]\n",
      "knn: Euclidean [ True]\n",
      "knn: cosine [ True]\n",
      "gradient boosting classifier [ True]\n"
     ]
    }
   ],
   "source": [
    "testrawtext(missoulian)"
   ]
  },
  {
   "cell_type": "code",
   "execution_count": 67,
   "metadata": {},
   "outputs": [],
   "source": [
    "fox='''Team Biden said it expects President Trump to “lie through his teeth” at the first presidential debate between the two nominees -- while downplaying the significance it could have on the race as Trump and Democratic nominee Joe Biden face off for the first time next week.\n",
    "\n",
    "\n",
    "“Fox News Sunday” anchor Chris Wallace has been selected to moderate the first presidential debate between Trump and Biden, the nonpartisan Commission on Presidential Debates (CPD) announced earlier this month.The debate is scheduled to take place Tuesday, Sept. 29 in Cleveland, Ohio.\n",
    "\n",
    "A source familiar with the former vice president’s campaign told Fox News that they expect Trump will be “extremely practiced” and “prepared” to debate Biden. But the source that “there is no debate performance that can fundamentally shift the race because of what people are living through,” referring to the coronavirus pandemic.\n",
    "\n",
    "“Everyone is stuck in a reality on account of Trump’s mismanagement, so there is no outcome during the debate that can really change the trajectory of this race,” the source told Fox News. “If Trump has a good debate, which we anticipate, and he has no compunctions about lying through his teeth and making things up on the spot, American life is still defined by his failure to have any plan to beat COVID.”\n",
    "\n",
    "The source added: “We know Donald Trump is going to lie through his teeth, but Joe Biden’s goal is to share his agenda, his plan and his values.\"\n",
    "\n",
    "A former Biden staffer also told Fox News that \"everybody knows\" the president now, and said that people are \"fully aware of how he operates and that he likes to lob insults and bait people by stating things that are not true.\"\"If you make that the fact that he lies all the time the issue, that’s less compelling than talking about how his lies have caused harm to the country,\" the staffer told Fox News. \"[Biden] needs to make Trump’s behavior relevant to voters. It has to be grounded in something that matters.”\n",
    "\n",
    "But Jay Carney, former White House press secretary for President Obama and former communications director for Biden as vice president, told Fox News that the debate itself could be a \"challenge.\"\n",
    "\n",
    "“I know Vice President Biden sees this as a serious challenge,\" Carney told Fox News. \"President Trump has an advantage in that he is an expert at delivering memorable sound bites and engaging in short-form scrums.\"\n",
    "\n",
    "Carney added that Trump \"gets in regular practice with all his short encounters with the press, and that kind of format, ironically, is close enough to what you experience in a debate that I doubt he’ll be rusty.”\n",
    "\n",
    "Carney said, however, that he thinks Biden \"will come in with a plan and will execute on it.\"\n",
    "\n",
    "\"And then we’ll have to see how successful the president is in disrupting it,\" Carney said.\n",
    "\n",
    "The early months of Biden’s third White House bid were marked by uneven debate performances and winding town halls in Iowa and New Hampshire. The floundering led to numerous stories about Biden’s gaffes and near-constant attacks from Trump about Biden’s mental fitness.\n",
    "\n",
    "\n",
    "Since then, however, the former vice president has drawn praise for both his performance against Sanders in March and, more recently, for his speech at last month’s Democratic National Convention.\n",
    "\n",
    "When asked whether the campaign was concerned about a debate night gaffe from the former vice president, the source defended Biden, saying that “the American people know this about him.”\n",
    "\n",
    "“In fact, it makes him more relatable to them,” the source said, while adding that the campaign “does not see the debate as a very big inflection point in the race.”\n",
    "\n",
    "\"We see that as something only the media cares about but that voters don’t,\" the source added.\n",
    "\n",
    "And former communications director for Pete Buttigieg’s presidential campaign, Lis Smith, shared a similar sentiment, saying that his gaffe-making is “part of his appeal.”\n",
    "\n",
    "“He comes across as a genuine, regular guy, and not like an overly programmed politician,” Smith said. “The narrative as Biden as a gaffe machine overlooks the reality that Joe Biden’s brand is being good ol’ regular Joe, Uncle Joe, and sometimes the things he says don’t come out quite right, but that’s part of his appeal as a politician.”\n",
    "\n",
    "She added: “Some people underestimate how baked in the cake some of this is about Joe Biden and how the fact that he isn’t a slick-talking, points-oriented politician works to his benefit. Most people don’t speak in perfect prose.”But Trump has seized on Biden’s gaffes along the campaign trail, questioning whether the former vice president was taking medication to enhance his primary debate performances — a topic he has raised repeatedly in the past several weeks, while calling for a mandatory drug test ahead of the general election debates.\n",
    "\n",
    "Trump offered no evidence to support his claims nor did he say what drug he thought Biden was taking.\n",
    "\n",
    "The president, during an exclusive interview with “Fox & Friends” Monday, though, said he thinks Biden is “a professional.”\n",
    "\n",
    "“I don’t know if he’s all there, but I think he’s a professional,” Trump said. “I have to assume that he is a professional and that he can debate.”As for his strategy should Trump lob personal attacks at the former vice president, the source told Fox News that Biden “will certainly stand up for himself and for American families.”\n",
    "\n",
    "But others familiar with Biden’s debate style suggested that he would rise above any insults, or personal attacks, by responding with arguments rooted in policy shortfalls of the Trump administration.\n",
    "\n",
    "“What was interesting watching the primary debates was that Biden did not engage when his primary opponents attacked him,” Smith told Fox News. “He was usually one of the big targets, and did face a number of nasty, fairly personal, attacks, but what I saw, and what we all saw, was that he sort of just brushed them off, laughed them off and kept going back to his own message rather than going down the rabbit hole of responding.”\n",
    "\n",
    "She added: “That’s going to be a really critical skill against Trump.”\n",
    "\n",
    "Smith said she anticipates the president will “do everything in his power” to get Biden “off message and in the mud with him.”\n",
    "\n",
    "“I just think history has shown that if you get down in the mud with Donald Trump, you probably won’t come out a winner of that one,” Smith said. “And that sort of discipline is going to be really important.”\n",
    "\n",
    "Carney also told Fox News he thinks Biden \"will stick to his plan and avoid getting into an insult competition.\"\n",
    "\n",
    "\"I think he’ll immediately go to the issues that people care about and keep returning to them,\" Carney said. \"You can certainly point out your opponent’s failings in the context of the issues that people care about, like health care, the coronavirus response, the economic welfare of the nation in a very precarious moment.\"\n",
    "\n",
    "He added: \"There are ways to do that but not make it personal – where Biden can make the case, for example, that the president’s response to COVID-19 has been a failure and that he would do a better job. He can do that on a lot of issues. He can make the contrast without getting into name-calling.”\n",
    "\n",
    "placeholder\n",
    "Meanwhile, as Team Biden is downplaying the debate’s impact in general, Team Trump is ramping up expectations, after months of undermining Biden’s abilities to take on the president.\n",
    "\n",
    "“Joe Biden has been a Washington politician for 47 years, he spent decades in the Senate where all they do is debate, he was vice president twice, and debated on the national stage in each of those races, and did very well,” Trump campaign Communications Director Tim Murtaugh said in an interview with Fox News Monday.\n",
    "\n",
    "“In the Democrat primaries, he debated a whole crowd of opponents, 11 times, and he won,” he continued. “He bested two dozen Democrat challengers.”\n",
    "\n",
    "Murtaugh added that Biden “knows his way around the debate stage.\n",
    "\n",
    "“He knows how to do it,” he said. “He’s actually quite good. That’s the Joe Biden we expect to see on debate night.”\n",
    "\n",
    "Murtaugh added: “We have to be prepared for the tuned-in Joe Biden.”\n",
    "\n",
    "Nevertheless, those in Biden’s camp are maintaining that the debate will have little influence on the race in general.\n",
    "\n",
    "placeholder\n",
    "“[Debates] used to have that potential to change things, but what seems to be true more and more is that they don’t have a significant impact on the race,\" Carney told Fox News, while adding that the race \"has been static, in Vice President Biden’s favor, for a long time, which means the president needs to find a way to disrupt the trajectory of the race.\"\n",
    "\n",
    "\"The debates give him an opportunity to do that,\" he said.\n",
    "\n",
    "“I think everyone is trying to build up the debate as a potential game-changer in this contest, but the story of 2020 has been a story of remarkable stability,” Smith added. “And if a global pandemic can’t fundamentally shift the dynamics of the race, I doubt the debate will.”'''"
   ]
  },
  {
   "cell_type": "code",
   "execution_count": 68,
   "metadata": {},
   "outputs": [
    {
     "name": "stdout",
     "output_type": "stream",
     "text": [
      "logistic classifier [ True]\n",
      "ridge classifier [ True]\n",
      "decision tree [False]\n",
      "naive Bayes [False]\n",
      "knn: Euclidean [False]\n",
      "knn: cosine [False]\n",
      "gradient boosting classifier [ True]\n"
     ]
    }
   ],
   "source": [
    "testrawtext(fox)"
   ]
  },
  {
   "cell_type": "code",
   "execution_count": 69,
   "metadata": {},
   "outputs": [],
   "source": [
    "latimes='''President Trump refused Wednesday to commit to giving up power should he lose the November race, adding to concerns that a contested election could lead to a constitutional crisis and a unique challenge to the nation’s democracy.\n",
    "Trailing the Democratic nominee, Joe Biden, in national and swing state polls six weeks before Election Day, Trump again presented invented claims of voter fraud as a pretext for his campaign’s all but certain legal challenges and, for the first time, his possible refusal to vacate the Oval Office should he lose.\n",
    "\n",
    "When a reporter noted the already combustible American landscape and asked Trump if he would “commit here today for a peaceful transfer of all power after the election,” the president declined to do so.\n",
    "\n",
    "“We’re going to have to see what happens,” he said. “You know that I’ve been complaining very strongly about the ballots, and the ballots are a disaster.”“We want to get rid of the ballots and you’ll have a very peaceful — there won’t be a transfer, frankly. There will be a continuation,” he added, suggesting that he would only view an election that he wins as legitimate.\n",
    "\n",
    "Biden offered sarcasm but did not evince deep concern when he was asked about Trump’s statement.\n",
    "\n",
    "“What country are we in?,” he said in Wilmington, Del., after a day of campaigning. “Look, he says the most irrational things. I don’t know what to say.”Andrew Bates, a campaign spokesman, cited Biden’s statement on July 19. “The American people will decide this election,” he said at the time. “And the United States government is perfectly capable of escorting trespassers out of the White House.”\n",
    "\n",
    "Trump’s declaration that “there won’t be a transfer” alarmed election experts, even those inured to his penchant for falsehoods and controversy.\n",
    "\n",
    "“In case anyone is unclear on the concept, in the United States of America, we do not ‘get rid of’ ballots. We count them,” said Ellen L. Weintraub, a commissioner on the Federal Elections Commission. “Counting the ballots— all the ballots — is the way we determine who leads our country after our elections. The only way.”\n",
    "\n",
    "Republicans were largely silent. But Sen. Mitt Romney (R-Utah), the party’s 2012 presidential nominee and a sometimes critic of Trump, condemned his refusal to commit to leaving office if he loses.“Fundamental to democracy is the peaceful transition of power; without that, there is Belarus,” Romney tweeted. “Any suggestion that a president might not respect this Constitutional guarantee is both unthinkable and unacceptable.”\n",
    "\n",
    "The president’s warnings of lawsuits and de-legitimizing of the voting process has added uncertainty to a country already convulsed by a pandemic, recession, racial strife and climate disasters.\n",
    "\n",
    "“There’s an economic angle here, too,” Justin Wolfers, an economist at the University of Michigan, tweeted. “The legitimacy and stability of democratic institutions and the rule of law are critical to investment and to our long run economic health.”\n",
    "\n",
    "The president’s comments came hours after he suggested that he would push forward with filling a vacancy on the Supreme Court because it might be called upon to resolve a disputed election.\n",
    "\n",
    "Trump plans to nominate a conservative justice on Saturday to succeed liberal Ruth Bader Ginsburg, who died Friday, on the high court. The Republican-led Senate is expected to hold confirmation hearings in mid-October, and may hold a floor vote before Election Day.\n",
    "\n",
    "If confirmed, Trump’s pick would ensure a 6-3 conservative majority on the court, including three justices nominated by Trump.\n",
    "\n",
    "“I think this will end up in the Supreme Court,” Trump said. “And I think it’s very important that we have nine justices.”\n",
    "\n",
    "\n",
    "'''"
   ]
  },
  {
   "cell_type": "code",
   "execution_count": 70,
   "metadata": {},
   "outputs": [
    {
     "name": "stdout",
     "output_type": "stream",
     "text": [
      "logistic classifier [ True]\n",
      "ridge classifier [ True]\n",
      "decision tree [False]\n",
      "naive Bayes [ True]\n",
      "knn: Euclidean [ True]\n",
      "knn: cosine [ True]\n",
      "gradient boosting classifier [ True]\n"
     ]
    }
   ],
   "source": [
    "testrawtext(latimes)"
   ]
  },
  {
   "cell_type": "code",
   "execution_count": 71,
   "metadata": {},
   "outputs": [],
   "source": [
    "usatoday='''A New York judge ordered Eric Trump to sit for a deposition with state investigators before Oct. 7, denying his attempt to push it off until after Election Day.\n",
    "\n",
    "New York Supreme Court Justice Arthur Engoron of Manhattan issued an oral ruling Wednesday siding with state Attorney General Letitia James' office, which sued Trump over his request to delay his deposition into November or beyond.\n",
    "\n",
    "James' office is investigating whether President Donald Trump and his companies improperly inflated the value of four of his properties, including the massive Seven Springs estate in northern Westchester County.\n",
    "\n",
    "The investigation is focused on whether the Trump Organization — which Eric Trump, the president's son, now leads — and the president benefitted financially from the potentially inflated values by getting better terms on loans and boosting tax write-offs.\n",
    "\n",
    "In an online hearing Tuesday, Alan Futerfas, an attorney for Eric Trump, said his client's seven-days-a-week campaign schedule will not allow enough time for him to prepare for a deposition in the case.\n",
    "\n",
    "Engoron was not convinced, calling Eric Trump's argument \"unpersuasive\" and ordering him to comply with the attorney general's deposition subpoena prior to Oct. 7.\n",
    "\n",
    "\n",
    "\"The court is not bound by the timeline of this election,\" Engoron said.\n",
    "\n",
    "Engoron said he would sign his order later Wednesday.\n",
    "\n",
    "James' ongoing investigation was launched after former Trump Organization attorney Michael Cohen accused Trump of inflating his assets. Cohen laid out his accusations during testimony to Congress in March 2019.\n",
    "\n",
    "According to court filings, the probe focuses on four major Trump properties, including the 212-acre Seven Springs estate in northern Westchester. Donald Trump had been trying to develop for years before agreeing to a conservation easement in 2015, prior to becoming president.\n",
    "\n",
    "The court documents from August show James' office is examining whether the Trump inflated the assessed value of the sprawling Westchester property, allowing one of his limited liability companies to claim a $21.1 million tax exemption on forms submitted to the IRS.\n",
    "\n",
    "\n",
    "\n",
    "\n",
    "'''"
   ]
  },
  {
   "cell_type": "code",
   "execution_count": 72,
   "metadata": {},
   "outputs": [
    {
     "name": "stdout",
     "output_type": "stream",
     "text": [
      "logistic classifier [ True]\n",
      "ridge classifier [ True]\n",
      "decision tree [ True]\n",
      "naive Bayes [ True]\n",
      "knn: Euclidean [ True]\n",
      "knn: cosine [ True]\n",
      "gradient boosting classifier [ True]\n"
     ]
    }
   ],
   "source": [
    "testrawtext(usatoday)"
   ]
  },
  {
   "cell_type": "code",
   "execution_count": 73,
   "metadata": {},
   "outputs": [],
   "source": [
    "onion='As the Democratic presidential nominee ramped up his in-person efforts to get out the vote, members of the Joe Biden campaign reportedly went door-to-door Tuesday in the JPMorgan Chase headquarters. “Door-knocking is a core part of talking to supporters and getting our message out there, which is why we’re spending the day knocking on each and every office door in the entire building,” said Biden deputy campaign manager Pete Kavanaugh, adding that hundreds of volunteers were reaching out to every wealth manager, data analyst, and investment associate at the 383 Madison building to seek support and donations for the Democratic nominee before canvassing at the headquarters of Goldman Sachs and Morgan Stanley. “We explain to every potential supporter what a great candidate Biden is and how his vision for the country will make their lives better. We hope to get a commitment to vote, of course, but a little donation doesn’t hurt either. Polls show that the 12th floor is a tossup so we’re definitely focusing on that. A lot of these people were Hillary [Clinton] supporters in 2016, but we’re not taking anything for granted, and the Wall Street demographic represents our key supporters.” At press time, several members of the Biden campaign team expressed disappointment after speaking with several bankers who said they didn’t really see a difference between the two candidates.'"
   ]
  },
  {
   "cell_type": "code",
   "execution_count": 74,
   "metadata": {},
   "outputs": [
    {
     "name": "stdout",
     "output_type": "stream",
     "text": [
      "logistic classifier [False]\n",
      "ridge classifier [False]\n",
      "decision tree [ True]\n",
      "naive Bayes [False]\n",
      "knn: Euclidean [False]\n",
      "knn: cosine [False]\n",
      "gradient boosting classifier [False]\n"
     ]
    }
   ],
   "source": [
    "testrawtext(onion)"
   ]
  }
 ],
 "metadata": {
  "kernelspec": {
   "display_name": "Python 3",
   "language": "python",
   "name": "python3"
  },
  "language_info": {
   "codemirror_mode": {
    "name": "ipython",
    "version": 3
   },
   "file_extension": ".py",
   "mimetype": "text/x-python",
   "name": "python",
   "nbconvert_exporter": "python",
   "pygments_lexer": "ipython3",
   "version": "3.8.3"
  }
 },
 "nbformat": 4,
 "nbformat_minor": 4
}
